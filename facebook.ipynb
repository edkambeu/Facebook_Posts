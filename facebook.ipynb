{
 "cells": [
  {
   "cell_type": "code",
   "execution_count": 1,
   "metadata": {},
   "outputs": [],
   "source": [
    "#Importing relevant libraries \n",
    "import pandas as pd\n",
    "import numpy as np \n",
    "import requests "
   ]
  },
  {
   "cell_type": "code",
   "execution_count": 3,
   "metadata": {},
   "outputs": [
    {
     "name": "stdout",
     "output_type": "stream",
     "text": [
      "{'name': 'Edson Kambeu', 'id': '10226451930275156'}\n"
     ]
    }
   ],
   "source": [
    "##Extracting data from facebook api \n",
    "#Setting up the url \n",
    "url = \"https://graph.facebook.com/v12.0/me?access_token=\"\n",
    "token = 'EAAEHNsZAK8n0BACvNxpZB0Gkl5YLE1bk19FOw63syjDdxWHYIJRAUOpXB3tABZCHmkkHIMrirPZC9plS7EUTffFosWs5mD3PqLrH9LcXg2fNHnuf1gDGSgKLZB3fUDvIxKeYabB1IfSa6dxH1m5T7WxHAJxttz5s7kYErj0Q1u1WhwpaJd9HVj0zA5pFR32M2EwOZCP6D1XQcIqqsOL6ah5Bqy8Pv1fq2maJ4omfkZBgk5GcZBZA6J6tZA'\n",
    "full_url = url + token \n",
    "myuser_info = requests.get(full_url)\n",
    "#Exracting my user info\n",
    "myuser_info = requests.get(full_url).json()\n",
    "print(myuser_info)"
   ]
  },
  {
   "cell_type": "code",
   "execution_count": 4,
   "metadata": {},
   "outputs": [
    {
     "name": "stdout",
     "output_type": "stream",
     "text": [
      "{'data': [{'id': '10226451930275156_10226602820727323', 'created_time': '2022-01-24T17:07:07+0000', 'message': 'The Yellow we love💛💛💛💛🤗🤗', 'object_id': '10226602820567319', 'type': 'photo', 'updated_time': '2022-01-24T17:07:07+0000'}, {'id': '10226451930275156_10226525280268860', 'created_time': '2022-01-10T14:55:15+0000', 'message': 'Painful to concede at the end..but well played', 'type': 'status', 'updated_time': '2022-01-10T14:55:15+0000'}, {'id': '10226451930275156_10226524072998679', 'created_time': '2022-01-10T10:13:57+0000', 'object_id': '2190634834408352', 'type': 'photo', 'updated_time': '2022-01-10T10:13:57+0000'}, {'id': '10226451930275156_10226455950215652', 'created_time': '2021-12-28T06:24:01+0000', 'message': 'This game was lit. Newcastle played like they were possesed. De Gea putting in some stunning saves🙌', 'object_id': '436198218210685', 'type': 'video', 'updated_time': '2021-12-28T06:24:01+0000'}, {'id': '10226451930275156_10226425344370525', 'created_time': '2021-12-22T10:43:23+0000', 'object_id': '2176325309172638', 'type': 'photo', 'updated_time': '2021-12-22T10:43:23+0000'}, {'id': '10226451930275156_10226309004142092', 'created_time': '2021-11-29T21:48:59+0000', 'message': '7😍😍', 'object_id': '10226309003782083', 'type': 'photo', 'updated_time': '2021-11-29T21:48:59+0000'}, {'id': '10226451930275156_10226295914934870', 'created_time': '2021-11-27T04:17:51+0000', 'object_id': '625490781978540', 'type': 'video', 'updated_time': '2021-11-27T04:17:51+0000'}, {'id': '10226451930275156_10226287315479889', 'created_time': '2021-11-25T11:25:39+0000', 'message': 'My sincere thanks to friends and relatives who wished me a happy birthday yesterday. May the Lord bless you.', 'type': 'status', 'updated_time': '2021-11-25T11:25:39+0000'}, {'id': '10226451930275156_10226246072088830', 'created_time': '2021-11-17T15:16:39+0000', 'object_id': '141569765981546', 'type': 'link', 'updated_time': '2021-11-17T15:16:39+0000'}, {'id': '10226451930275156_10225989652198493', 'created_time': '2021-10-03T18:22:14+0000', 'message': 'If we praise Messi for such kind of goals, we should do the same to Mo Salah. What a goal he scored today...the kind of goals we wanna see.', 'object_id': '450544499658580', 'type': 'video', 'updated_time': '2021-10-03T18:25:44+0000'}, {'id': '10226451930275156_10225963692269511', 'created_time': '2021-09-28T21:12:00+0000', 'message': 'It had to be a beautiful one. What a goal from the G.O.A.T. Trademark goal....', 'object_id': '4349468008474929', 'type': 'video', 'updated_time': '2021-09-28T21:12:00+0000'}, {'id': '10226451930275156_10225831979616777', 'created_time': '2021-09-04T05:06:01+0000', 'message': 'One of my all time great. Magician...', 'object_id': '828005594524582', 'type': 'video', 'updated_time': '2021-09-04T05:06:01+0000'}, {'id': '10226451930275156_10225811728630515', 'created_time': '2021-08-31T06:19:03+0000', 'message': 'When Eric Cantona decided to speak in parables and left the audience shell-shocked😂😂', 'object_id': '883466845911035', 'type': 'video', 'updated_time': '2021-08-31T06:19:03+0000'}, {'id': '10226451930275156_10225791591167091', 'created_time': '2021-08-27T16:20:00+0000', 'message': 'Its official. Christiano is returning to Old Trafford after being intially linked to rivals Man City.', 'object_id': '10159889222798598', 'type': 'photo', 'updated_time': '2021-08-27T16:20:00+0000'}, {'id': '10226451930275156_10225778423837916', 'created_time': '2021-08-25T11:05:34+0000', 'message': 'Someone take this lady to Stamford Bridge.', 'object_id': '365215608449706', 'type': 'video', 'updated_time': '2021-08-25T11:05:34+0000'}, {'id': '10226451930275156_10225678863028958', 'created_time': '2021-08-08T15:40:58+0000', 'message': 'Gracias Leo ❤💙. Barca is your home. Like Johan Cruyff and  Pep Gurdiola you will be back to serve Barca in other roles.  Visca el Barca🔵🔴', 'object_id': '395032765321653', 'type': 'photo', 'updated_time': '2021-08-08T15:40:58+0000'}, {'id': '10226451930275156_10225662628743111', 'created_time': '2021-08-05T18:13:46+0000', 'message': 'Big News Coming from Camp Nou: Messi will not be staying at FC Barcelona.', 'type': 'status', 'updated_time': '2021-08-05T18:13:46+0000'}, {'id': '10226451930275156_10225641389172135', 'created_time': '2021-08-02T08:27:08+0000', 'object_id': '2064799013658602', 'type': 'photo', 'updated_time': '2021-08-02T08:27:08+0000'}, {'id': '10226451930275156_10225491809632740', 'created_time': '2021-07-11T22:06:13+0000', 'message': 'Facing a penalty shootout against a giant goalkeepeer Donnarumma is committing suicide. I knew its gonna end in tears for the English. Italy deserved winners of Euros judging by their performance from day 1. Congratulations Italy.Euro 2020 Champions.', 'type': 'status', 'updated_time': '2021-07-11T22:06:13+0000'}, {'id': '10226451930275156_10225491726510662', 'created_time': '2021-07-11T21:57:04+0000', 'message': 'It ended in tears for England. Its going to Rome.', 'type': 'status', 'updated_time': '2021-07-11T21:57:04+0000'}, {'id': '10226451930275156_10225486676824423', 'created_time': '2021-07-11T02:12:34+0000', 'message': 'After so many heartbreaks, Argentina and Messi finally wins an international trophy.Congratulations COPA America 2020 champions.', 'object_id': '10225486676064404', 'type': 'photo', 'updated_time': '2021-07-11T02:12:34+0000'}, {'id': '10226451930275156_10225465641898563', 'created_time': '2021-07-07T22:07:31+0000', 'message': 'England played better. But its so sad that in the era of VAR we are still having referees making dubious decisions.', 'type': 'status', 'updated_time': '2021-07-07T22:07:31+0000'}, {'id': '10226451930275156_10225408820078053', 'created_time': '2021-06-28T21:46:24+0000', 'message': 'Switzerland are through...What an extraordinary night of football.', 'type': 'status', 'updated_time': '2021-06-28T22:09:02+0000'}, {'id': '10226451930275156_10225408598872523', 'created_time': '2021-06-28T20:50:04+0000', 'message': 'Tell me a better sport than football.I will wait...Extraordinary matches we are watching.', 'type': 'status', 'updated_time': '2021-06-28T21:34:49+0000'}, {'id': '10226451930275156_10225379360421580', 'created_time': '2021-06-24T16:22:14+0000', 'message': \"Certified ballers....Certified GOAT's😍🔴🔵\", 'object_id': '363700321790602', 'type': 'photo', 'updated_time': '2021-06-24T16:22:14+0000'}, {'id': '10226451930275156_10225345423853187', 'created_time': '2021-06-19T17:04:31+0000', 'message': 'Welcome to Barca Mephis🔵🔴', 'object_id': '4327187970651062', 'type': 'photo', 'updated_time': '2021-06-19T17:04:31+0000'}, {'id': '10226451930275156_10225203148656396', 'created_time': '2021-05-29T21:26:17+0000', 'message': 'When you have this guy in your team ..its like your two extra players in your team. The amount of grass this guy can cover is phenomenal.\\n\\n Congratulations to Kante and Chelsea for winning the UCL.', 'object_id': '10225203148456391', 'type': 'photo', 'updated_time': '2021-05-29T21:26:17+0000'}, {'id': '10226451930275156_10224825163166995', 'created_time': '2021-04-05T20:57:58+0000', 'message': 'Never never give up.An important win in a tough match.Forca Barca🔵🔴', 'type': 'status', 'updated_time': '2021-04-05T20:57:58+0000'}, {'id': '10226451930275156_10224479575447518', 'created_time': '2021-02-19T11:12:19+0000', 'object_id': '10224479575247513', 'type': 'photo', 'updated_time': '2021-02-19T11:12:19+0000'}, {'id': '10226451930275156_10223346858650306', 'created_time': '2020-09-25T12:34:23+0000', 'shares': {'count': 1}, 'object_id': '1806911692780670', 'type': 'photo', 'updated_time': '2020-09-25T12:34:23+0000'}, {'id': '10226451930275156_10223267912276696', 'created_time': '2020-09-13T19:00:28+0000', 'shares': {'count': 1}, 'object_id': '1978287302469756', 'type': 'photo', 'updated_time': '2020-09-13T19:00:28+0000'}, {'id': '10226451930275156_10223200345787576', 'created_time': '2020-09-04T15:43:47+0000', 'object_id': '1971823109782842', 'type': 'photo', 'updated_time': '2020-09-04T15:43:47+0000'}, {'id': '10226451930275156_10223200340147435', 'created_time': '2020-09-04T15:43:14+0000', 'object_id': '1971775633120923', 'type': 'photo', 'updated_time': '2020-09-04T15:43:14+0000'}, {'id': '10226451930275156_10223179731552233', 'created_time': '2020-09-01T20:52:01+0000', 'object_id': '1969955826636237', 'type': 'photo', 'updated_time': '2020-09-01T20:52:01+0000'}, {'id': '10226451930275156_10223024350867813', 'created_time': '2020-08-11T11:08:29+0000', 'object_id': '10223024350427802', 'type': 'photo', 'updated_time': '2020-08-11T11:08:29+0000'}, {'id': '10226451930275156_10222963006814250', 'created_time': '2020-08-03T18:40:21+0000', 'message': 'Respect human rights.#Zimbabeanlivesmatter', 'object_id': '10222963006334238', 'type': 'photo', 'updated_time': '2020-08-03T18:40:21+0000'}, {'id': '10226451930275156_10222896208064323', 'created_time': '2020-07-26T17:32:17+0000', 'message': 'The lads celebrating surviving relegation...', 'object_id': '305304953954578', 'type': 'video', 'updated_time': '2020-07-26T17:32:17+0000'}, {'id': '10226451930275156_10222896050620387', 'created_time': '2020-07-26T17:07:43+0000', 'message': 'Villa and Nakamba stay up', 'object_id': '3434907903219921', 'type': 'photo', 'updated_time': '2020-07-26T17:07:43+0000'}, {'id': '10226451930275156_10222457762743464', 'created_time': '2020-06-08T07:11:40+0000', 'type': 'link', 'updated_time': '2020-06-08T07:11:40+0000'}, {'id': '10226451930275156_10221440726038182', 'created_time': '2020-03-05T17:37:33+0000', 'object_id': '1617315848406923', 'type': 'photo', 'updated_time': '2020-03-05T17:37:33+0000'}, {'id': '10226451930275156_10221078728548471', 'created_time': '2020-01-26T20:18:15+0000', 'message': 'RIP NBA legend Kobe Bryant', 'type': 'status', 'updated_time': '2020-01-26T20:18:15+0000'}, {'id': '10226451930275156_10220578625246201', 'created_time': '2019-12-02T21:02:14+0000', 'message': 'Best football player I have ever seen.We never get enough of your magical goals. Congratulations Leo...', 'object_id': '10220578624726188', 'type': 'photo', 'updated_time': '2019-12-03T04:54:12+0000'}, {'id': '10226451930275156_10220570915933473', 'created_time': '2019-12-01T21:58:09+0000', 'message': 'Messi was at the Wanda', 'object_id': '10220570915373459', 'type': 'photo', 'updated_time': '2019-12-01T21:58:09+0000'}, {'id': '10226451930275156_10220502809630858', 'created_time': '2019-11-24T06:54:30+0000', 'message': 'Sure.This is my day.', 'type': 'status', 'updated_time': '2019-11-24T06:54:30+0000'}, {'id': '10226451930275156_10220008343869523', 'created_time': '2019-10-02T20:58:05+0000', 'message': 'El Pisterello with a brace.Forca Barca.', 'object_id': '10220008333869273', 'type': 'photo', 'updated_time': '2019-10-02T20:58:05+0000'}, {'id': '10226451930275156_10219933653162302', 'created_time': '2019-09-23T21:29:16+0000', 'message': 'Best player I have ever seen.Just like the great Ronaldinho ...we will never have enough of your greatness and magic.Congratulations. G.O.A.T.', 'object_id': '3074741029212137', 'type': 'photo', 'updated_time': '2019-09-23T21:29:16+0000'}, {'id': '10226451930275156_10219933638961947', 'created_time': '2019-09-23T21:25:47+0000', 'object_id': '3074741029212137', 'type': 'photo', 'updated_time': '2019-09-23T21:25:47+0000'}, {'id': '10226451930275156_10219918533424318', 'created_time': '2019-09-21T20:57:19+0000', 'message': 'No away win in all competitions.\\n           Valverde Out', 'type': 'status', 'updated_time': '2019-09-21T20:58:06+0000'}, {'id': '10226451930275156_10219710266737781', 'created_time': '2019-08-25T20:57:13+0000', 'message': 'Off the mark Barca .Griezemann with a double . A debut for the young 16 year old Ansu Fati.Forca Barca.', 'object_id': '10219710241617153', 'type': 'photo', 'updated_time': '2019-08-25T20:57:13+0000'}, {'id': '10226451930275156_10219565023146782', 'created_time': '2019-08-08T10:06:43+0000', 'object_id': '10219565022786773', 'type': 'photo', 'updated_time': '2019-08-08T10:06:43+0000'}, {'id': '10226451930275156_10219371308824045', 'created_time': '2019-07-14T18:32:20+0000', 'message': 'What a sporting day.Djokovic won a nail biting tie moments ago.And just now England wins Cricket World Cup by a single run.Amazing', 'type': 'status', 'updated_time': '2019-07-14T18:32:20+0000'}, {'id': '10226451930275156_10219370200676342', 'created_time': '2019-07-14T15:49:34+0000', 'message': 'Congratulations.ZimGems .What a match it was', 'type': 'status', 'updated_time': '2019-07-14T17:29:14+0000'}, {'id': '10226451930275156_10218886173255959', 'created_time': '2019-05-12T15:59:44+0000', 'message': 'What a title race it has been!Liverpool ..97 points and failing to win the league.Its unfortunate one team has to win it.Congratulations Man City.Now Pep Gurdiola..come back home.', 'type': 'status', 'updated_time': '2019-05-12T16:00:55+0000'}, {'id': '10226451930275156_10218858639487632', 'created_time': '2019-05-08T21:03:01+0000', 'message': 'A season of comebacks. Ajax dream comes to an end.', 'type': 'status', 'updated_time': '2019-05-08T21:03:01+0000'}, {'id': '10226451930275156_10218851817077076', 'created_time': '2019-05-07T20:57:32+0000', 'message': 'Over the two legs Liverpool deserved to go through.Another dissapointing campaign for FC Barcelona.', 'type': 'status', 'updated_time': '2019-05-07T20:57:32+0000'}, {'id': '10226451930275156_10218825140170170', 'created_time': '2019-05-04T08:19:55+0000', 'message': 'And it was you Moses Murandu who invited me to this platform.10 years back and facebook didnt have as many people as it has today.', 'type': 'status', 'updated_time': '2019-05-04T08:19:55+0000'}, {'id': '10226451930275156_10218806887153856', 'created_time': '2019-05-01T20:44:57+0000', 'message': 'Mesiiiiiiiiiii....what a goal', 'type': 'status', 'updated_time': '2019-05-01T20:44:57+0000'}, {'id': '10226451930275156_10218778020872217', 'created_time': '2019-04-27T21:15:20+0000', 'message': '👏👏👏👏👏💙♥️💙♥️🔴🔵', 'object_id': '2312819742308153', 'type': 'video', 'updated_time': '2019-04-27T21:15:20+0000'}, {'id': '10226451930275156_10218777795866592', 'created_time': '2019-04-27T20:47:32+0000', 'message': 'CAMPEONES CAMPEONES  BARCA BARCA🔵🔴🔵🔴🔵🔵🔴🔵🔴🔵🔴🔵🔴🔵🔴🔵', 'object_id': '10218777791746489', 'type': 'photo', 'updated_time': '2019-04-27T20:47:32+0000'}, {'id': '10226451930275156_10218706518924713', 'created_time': '2019-04-17T20:56:46+0000', 'message': 'What a crazy crazy match....Spurs through', 'type': 'status', 'updated_time': '2019-04-17T20:56:46+0000'}, {'id': '10226451930275156_10218699432747563', 'created_time': '2019-04-16T20:57:29+0000', 'message': 'And Ajax knocks out Juve out of Champions League', 'type': 'status', 'updated_time': '2019-04-17T06:37:16+0000'}, {'id': '10226451930275156_10218699419547233', 'created_time': '2019-04-16T20:55:44+0000', 'message': 'Messi and Coutinho settles the tie.Forca Forca Barca🔵🔴🔵🔴🔵🔴🔵🔴🔵🔴', 'object_id': '10218699413147073', 'type': 'photo', 'updated_time': '2019-04-16T20:55:44+0000'}, {'id': '10226451930275156_10218629627842484', 'created_time': '2019-04-06T20:55:08+0000', 'message': 'La Liga loading.....Forca Barca🔴🔵♥️💙', 'object_id': '10218629626802458', 'type': 'photo', 'updated_time': '2019-04-06T21:02:15+0000'}, {'id': '10226451930275156_10218382180696460', 'created_time': '2019-03-02T21:42:54+0000', 'message': 'Barca rules El Clasico.Another win.Thanks to the Croatian Ivan Rakitic.Forca Barca🔵🔴', 'object_id': '10218382180416453', 'type': 'photo', 'updated_time': '2019-03-02T21:42:54+0000'}, {'id': '10226451930275156_10218361771466242', 'created_time': '2019-02-27T21:57:01+0000', 'message': 'A double for L.Suarez👏👏👏💙♥️.Well done lads.Forca Barca 🔵🔴', 'object_id': '10218361771226236', 'type': 'photo', 'updated_time': '2019-02-27T21:57:01+0000'}, {'id': '10226451930275156_10218203454028405', 'created_time': '2019-02-06T21:58:10+0000', 'message': 'A fight for another day.Forca Barca 🔴🔵', 'type': 'status', 'updated_time': '2019-02-06T21:58:10+0000'}, {'id': '10226451930275156_10218096772921444', 'created_time': '2019-01-23T16:11:12+0000', 'message': 'Rest in Peace.Hero of our times.Your legacy will truly live on.', 'object_id': '10218096763241202', 'type': 'photo', 'updated_time': '2019-01-23T16:11:12+0000'}, {'id': '10226451930275156_10218017760466182', 'created_time': '2019-01-13T10:25:27+0000', 'message': 'Rest in Peace Phil Masinga.You are one of the guys who made me fall in love with the game back then.Go well football legend.', 'object_id': '10218017760226176', 'type': 'photo', 'updated_time': '2019-01-13T10:25:27+0000'}, {'id': '10226451930275156_10217910604267344', 'created_time': '2018-12-29T18:18:58+0000', 'message': 'It looks like the match we were waiting for the whole day is over before half time.Dissapointing...', 'type': 'status', 'updated_time': '2018-12-30T06:27:14+0000'}, {'id': '10226451930275156_10217786027713008', 'created_time': '2018-12-13T20:43:44+0000', 'message': '🙄🙄Was this year only about ⚽⚽⚽ and 🔴🔵.Well that defines me.I love the game♥️♥️💙💙.', 'type': 'status', 'updated_time': '2018-12-13T20:43:44+0000'}, {'id': '10226451930275156_10217748036763258', 'created_time': '2018-12-08T21:08:08+0000', 'message': 'He is the GOAT.Full stop.', 'type': 'status', 'updated_time': '2018-12-08T21:08:08+0000'}, {'id': '10226451930275156_10217633261293943', 'created_time': '2018-11-25T11:18:48+0000', 'message': 'If you interested in being part of the data science community and you want to use open source software such as R and Python to analyse data, consider joining this group Pydata BW and be part of their meet-ups. Pydata BW is helping the country build data science capacity in Botswana.', 'type': 'status', 'updated_time': '2018-11-25T14:30:26+0000'}, {'id': '10226451930275156_10217631751456198', 'created_time': '2018-11-25T05:12:16+0000', 'message': 'Thank you very much to those who wished me a happy birthday yesterday.', 'type': 'status', 'updated_time': '2018-11-25T05:14:30+0000'}, {'id': '10226451930275156_10217628376931837', 'created_time': '2018-11-24T19:45:53+0000', 'message': 'What an atmosphere at the Wanda Metropolitano.Forca Barca🔴🔵', 'type': 'status', 'updated_time': '2018-11-24T19:45:53+0000'}, {'id': '10226451930275156_10217441958551494', 'created_time': '2018-10-30T14:03:27+0000', 'object_id': '10217441954071382', 'type': 'photo', 'updated_time': '2018-10-30T14:03:27+0000'}, {'id': '10226451930275156_10217441936390940', 'created_time': '2018-10-30T14:01:03+0000', 'object_id': '10217441935670922', 'type': 'photo', 'updated_time': '2018-10-30T14:01:03+0000'}, {'id': '10226451930275156_10217429642283595', 'created_time': '2018-10-28T17:27:22+0000', 'message': 'Forca Barca🔴🔵🖐🖐👏👏', 'object_id': '10217429565761682', 'type': 'photo', 'updated_time': '2018-10-28T17:27:22+0000'}, {'id': '10226451930275156_10217427050538803', 'created_time': '2018-10-28T12:33:15+0000', 'message': 'Forca Barcaaaaaaaaaa', 'object_id': '10217427014297897', 'type': 'photo', 'updated_time': '2018-10-28T12:33:15+0000'}, {'id': '10226451930275156_10217245536281060', 'created_time': '2018-10-03T21:14:03+0000', 'message': 'Magical performance form the little genius🔥🔥👏👏👏.Certainly the best footballer i have ever seen....after Ronaldinho and Zidane of course.', 'object_id': '10217245504840274', 'type': 'photo', 'updated_time': '2018-10-03T21:26:50+0000'}, {'id': '10226451930275156_10216637130671300', 'created_time': '2018-07-15T15:37:10+0000', 'message': 'Not a penalty for me', 'type': 'status', 'updated_time': '2018-07-15T15:37:10+0000'}, {'id': '10226451930275156_10216637050829304', 'created_time': '2018-07-15T15:29:34+0000', 'message': 'Ivan Perisic...Game on.', 'type': 'status', 'updated_time': '2018-07-15T17:50:36+0000'}, {'id': '10226451930275156_10216608687760245', 'created_time': '2018-07-11T20:41:23+0000', 'message': 'Football is going home?Well ..not now.Congratulations to Croatia.Congratulations to Ivan Rakitic.', 'type': 'status', 'updated_time': '2018-07-11T20:41:23+0000'}, {'id': '10226451930275156_10216578933576409', 'created_time': '2018-07-07T20:54:51+0000', 'message': 'Rakitic final penalty .....takes Croatia to the semi-final👏👏👏', 'type': 'status', 'updated_time': '2018-07-07T20:55:22+0000'}, {'id': '10226451930275156_10216541217993543', 'created_time': '2018-07-02T19:54:05+0000', 'message': 'What an escape for Belgium', 'type': 'status', 'updated_time': '2018-07-02T19:54:05+0000'}, {'id': '10226451930275156_10216525847209283', 'created_time': '2018-06-30T20:03:12+0000', 'message': 'FACT OF FOOTBALL:World Cup is never won by one man teams.Teamwork win you the World Cup.', 'type': 'status', 'updated_time': '2018-06-30T20:03:12+0000'}, {'id': '10226451930275156_10216495657414557', 'created_time': '2018-06-26T20:05:51+0000', 'message': 'GOD SAVE THE KING', 'object_id': '10216495651814417', 'type': 'photo', 'updated_time': '2018-06-26T20:05:51+0000'}, {'id': '10226451930275156_10216495582852693', 'created_time': '2018-06-26T19:54:23+0000', 'message': 'Im so happy ........', 'type': 'status', 'updated_time': '2018-06-26T19:54:23+0000'}, {'id': '10226451930275156_10216450043954249', 'created_time': '2018-06-20T14:14:22+0000', 'message': 'Morocco to exit World Cup playing the best football from an African team.Its a game they dominated ...and should have won if they had not wasted chances.', 'type': 'status', 'updated_time': '2018-06-20T14:14:22+0000'}, {'id': '10226451930275156_10216429475120041', 'created_time': '2018-06-17T15:36:49+0000', 'message': 'What a match Germany ..Mexico.Most exciting match so far.', 'type': 'status', 'updated_time': '2018-06-17T16:53:09+0000'}, {'id': '10226451930275156_10216420282010219', 'created_time': '2018-06-16T12:53:16+0000', 'message': 'The World Cup finally starts....The G.O.A.T and Albiceleste step onto the pitch.', 'type': 'status', 'updated_time': '2018-06-16T15:28:41+0000'}, {'id': '10226451930275156_10216419413708512', 'created_time': '2018-06-16T09:37:10+0000', 'message': 'Goodluck to our own Barca stars Ousmane Dembele and Samuel Umtiti as Les Blues take on Australia.', 'type': 'status', 'updated_time': '2018-06-16T09:37:10+0000'}, {'id': '10226451930275156_10216415469729915', 'created_time': '2018-06-15T19:48:14+0000', 'message': 'What a match..Spain dominating .Portugal refusing to bow down.The Iberian derby lighting up the World Cup.', 'type': 'status', 'updated_time': '2018-06-15T19:48:14+0000'}, {'id': '10226451930275156_10216377816548609', 'created_time': '2018-06-10T09:58:26+0000', 'message': 'Sweet sacrement we thee adore!\\nOh make us love thee more and more\\nOh make us love thee more and more', 'type': 'video', 'updated_time': '2018-06-10T09:58:26+0000'}, {'id': '10226451930275156_10216273201693303', 'created_time': '2018-05-26T21:01:12+0000', 'message': 'Two mistakes in one match...its unforgivable', 'type': 'status', 'updated_time': '2018-05-26T21:01:12+0000'}, {'id': '10226451930275156_10216273044049362', 'created_time': '2018-05-26T20:28:55+0000', 'message': 'Karius cost Liverpool once again', 'type': 'status', 'updated_time': '2018-05-26T20:28:55+0000'}, {'id': '10226451930275156_10216272911766055', 'created_time': '2018-05-26T20:00:44+0000', 'message': 'Goaaaal...Game on', 'type': 'status', 'updated_time': '2018-05-26T20:00:44+0000'}, {'id': '10226451930275156_10216272713561100', 'created_time': '2018-05-26T19:15:13+0000', 'message': 'Salah leaves the field.Culprit ..Ramos', 'type': 'status', 'updated_time': '2018-05-26T19:15:13+0000'}, {'id': '10226451930275156_10216234118556249', 'created_time': '2018-05-20T20:48:39+0000', 'message': '.Gracias Iniesta....Inifinit Iniesta.👏👏👏👏👏👏👏👏👏👏👏👏👏👏👏👏👏👏👏👏👏👏👏👏👏👏👏👏👏👏👏👏👏👏👏👏👏👏👏👏👏👏👏👏👏👏👏👏👏👏👏👏', 'object_id': '10216234022953859', 'type': 'photo', 'updated_time': '2018-05-20T20:48:39+0000'}, {'id': '10226451930275156_10216205354357162', 'created_time': '2018-05-16T18:17:29+0000', 'message': 'Sundowns players queing up to be taken up photos with the G.O.A.T.Thank you Barca for coming to S.A.Forca Barca ...Mes Que En Club.', 'type': 'status', 'updated_time': '2018-05-16T18:17:29+0000'}, {'id': '10226451930275156_10216187053939663', 'created_time': '2018-05-13T20:40:47+0000', 'message': 'Levante defeat a Messi-less Barca...become the first team to beat the Catalans the entire season.', 'type': 'status', 'updated_time': '2018-05-13T20:40:47+0000'}, {'id': '10226451930275156_10216157262754902', 'created_time': '2018-05-09T18:01:38+0000', 'message': 'Today against Villareal , FC Barcelona players are wearing shirts with names of their mothers at the back.Mes Que Un Club(More than just a club).', 'type': 'status', 'updated_time': '2018-05-09T18:01:38+0000'}, {'id': '10226451930275156_10216137860109848', 'created_time': '2018-05-06T20:43:53+0000', 'message': '10 Men Barca hold on to a draw...remain unbeaten in La liga.Forca Barca.', 'type': 'status', 'updated_time': '2018-05-06T20:44:18+0000'}, {'id': '10226451930275156_10216084917866325', 'created_time': '2018-04-29T20:44:22+0000', 'message': '2nd trophy of the season. 7th La Liga title in the past 10 years. 25th La liga title in the history of Fc Barcelona. CAMPIONES...CAMPIONES ...FORCA BARCA.', 'object_id': '10216084899585868', 'type': 'photo', 'updated_time': '2018-04-29T20:44:22+0000'}, {'id': '10226451930275156_10216084862304936', 'created_time': '2018-04-29T20:35:43+0000', 'message': 'BREAKING: LA LIGA CHAMPIONS 2017/2018 SEASON  FC Barcelona.', 'object_id': '10216084842344437', 'type': 'photo', 'updated_time': '2018-04-29T20:36:27+0000'}, {'id': '10226451930275156_10216074948617100', 'created_time': '2018-04-28T13:55:25+0000', 'type': 'status', 'updated_time': '2018-04-28T13:55:25+0000'}, {'id': '10226451930275156_10216068600818409', 'created_time': '2018-04-27T16:35:35+0000', 'message': 'I have no much words for this genius of the game except to say..... gracias Iniesta👏👏👏👏 for all the magical moments. The Barca family will miss you 😭😭😭. Hope to see you back at the club in another role.', 'object_id': '10216068559337372', 'type': 'photo', 'updated_time': '2018-04-27T16:35:35+0000'}, {'id': '10226451930275156_10216049383377985', 'created_time': '2018-04-24T19:21:52+0000', 'message': 'Mo-Salah...What a goal', 'type': 'status', 'updated_time': '2018-04-24T19:21:52+0000'}, {'id': '10226451930275156_10216028689780658', 'created_time': '2018-04-21T21:38:50+0000', 'message': 'Barca was Barca today. Scintilating exhibition football from the Catalans. Copa Del Rey Champions once again. Next...La liga  title. Forca  Barca.', 'object_id': '10216028671740207', 'type': 'photo', 'updated_time': '2018-04-21T21:39:20+0000'}, {'id': '10226451930275156_10216028509096141', 'created_time': '2018-04-21T21:07:19+0000', 'message': 'Football made easy by Don Andres Iniesta....He is on 🔥. 👏👏👏', 'object_id': '10216028454494776', 'type': 'photo', 'updated_time': '2018-04-21T21:07:19+0000'}, {'id': '10226451930275156_10215953803308543', 'created_time': '2018-04-10T20:35:02+0000', 'message': 'Embarassing', 'type': 'status', 'updated_time': '2018-04-11T12:12:28+0000'}, {'id': '10226451930275156_10215878278180462', 'created_time': '2018-03-31T21:06:32+0000', 'message': 'Next up. We welcome Roma at the Estadio de Camp Nou on Wednesday . Forca Barca. Mes Que Un Club(More than a club).', 'object_id': '10215878256979932', 'type': 'photo', 'updated_time': '2018-03-31T21:07:02+0000'}, {'id': '10226451930275156_10215878214498870', 'created_time': '2018-03-31T20:53:44+0000', 'message': 'Never give up..never never never ...never give up. It was all lost until he intervened with a late equalizer👏👏👏👏. Unbeaten run still intact.  Forca Barca.💪💪💪', 'object_id': '10215878181858054', 'type': 'photo', 'updated_time': '2018-03-31T21:00:56+0000'}, {'id': '10226451930275156_10215878078655474', 'created_time': '2018-03-31T20:29:57+0000', 'message': 'Mesiiiiiiiiiii', 'type': 'status', 'updated_time': '2018-03-31T20:29:57+0000'}, {'id': '10226451930275156_10215726981038128', 'created_time': '2018-03-15T05:57:37+0000', 'message': 'Is this the year of the G.O.A.T? Mesmerizing Messi downs Chelsea.👏👏👏👏💪💪', 'object_id': '10215726961397637', 'type': 'photo', 'updated_time': '2018-03-15T05:58:11+0000'}, {'id': '10226451930275156_10215471417369196', 'created_time': '2018-02-14T19:35:06+0000', 'message': 'RIP Morgan Tsvangirai.True hero of the struggle against tyranny.Forever my hero.', 'type': 'status', 'updated_time': '2018-02-14T19:35:06+0000'}, {'id': '10226451930275156_10215324285650995', 'created_time': '2018-01-28T21:52:38+0000', 'message': 'Suarez in fine form...Messi decisive as usual...Iniesta dazzles. Barca see off a stubborn Alaves to mantain unbeaten run in La Liga. .FORCA BARCA.MES QUE UN CLUB.💪💪💪👏👏👏', 'object_id': '10215324252250160', 'type': 'photo', 'updated_time': '2018-01-28T21:52:38+0000'}, {'id': '10226451930275156_10215218552367729', 'created_time': '2018-01-17T18:27:59+0000', 'message': 'We will never forget the magic. A unique player who played football with a smile. You were a joy to watch. No doubt, together with Lionel Messi and Zinedine Zidane  you to the best football players I have ever seen in my lifetime.You a true legend to many FC Barcelona fans like myself. Happy retirement #RonaldinhoGaucho10.', 'object_id': '10215218450205175', 'type': 'photo', 'updated_time': '2018-01-17T18:31:05+0000'}, {'id': '10226451930275156_10215195776678351', 'created_time': '2018-01-14T21:40:01+0000', 'message': 'Catch me if you can. The march towards a La liga title continues..Barcelona record their first win at the Anoeta  since 2007.  Forca Barca..Visca el Barca.', 'object_id': '10215195717076861', 'type': 'photo', 'updated_time': '2018-01-14T21:40:01+0000'}, {'id': '10226451930275156_10215130017034401', 'created_time': '2018-01-06T19:10:55+0000', 'message': 'Its official.He is ready to light up Camp Nou.Welcome to FC Barcelona Phillipe Coutinho.', 'type': 'link', 'updated_time': '2018-01-06T19:36:24+0000'}, {'id': '10226451930275156_10215005352717871', 'created_time': '2017-12-23T14:13:10+0000', 'message': 'You have to love this team. The best football club of the last decade. 3-0 victors are the Santiago Bernabeu.', 'object_id': '10215005333357387', 'type': 'photo', 'updated_time': '2017-12-23T14:43:51+0000'}, {'id': '10226451930275156_10215005001629094', 'created_time': '2017-12-23T13:22:01+0000', 'message': 'BARCAAAAAAAAAAAAAA', 'type': 'status', 'updated_time': '2017-12-23T13:22:01+0000'}, {'id': '10226451930275156_10214995623514647', 'created_time': '2017-12-22T08:07:31+0000', 'message': 'Yes yes we are ready for the El Clasico. Forca Barca.Mes Que Un Club.', 'object_id': '10214995580313567', 'type': 'photo', 'updated_time': '2017-12-22T08:07:31+0000'}, {'id': '10226451930275156_10214949504721706', 'created_time': '2017-12-16T20:25:13+0000', 'message': '16....👏👏👏👏👏👏👏👏👏', 'object_id': '10214949410519351', 'type': 'photo', 'updated_time': '2017-12-16T20:25:13+0000'}, {'id': '10226451930275156_10214896565958270', 'created_time': '2017-12-10T18:27:55+0000', 'message': 'Pep Gurdiola prevails over Jose.M.City open a 11 point lead.', 'type': 'status', 'updated_time': '2017-12-10T18:27:55+0000'}, {'id': '10226451930275156_10214781700406703', 'created_time': '2017-11-26T21:53:08+0000', 'message': 'I have no comment.....', 'object_id': '10214781693166522', 'type': 'photo', 'updated_time': '2017-11-26T21:53:08+0000'}, {'id': '10226451930275156_10214781192354002', 'created_time': '2017-11-26T20:18:55+0000', 'message': 'A legitimate clear goal dissallowed...', 'type': 'status', 'updated_time': '2017-11-26T20:18:55+0000'}, {'id': '10226451930275156_10214739964763338', 'created_time': '2017-11-21T16:00:41+0000', 'message': 'THE ONLY PRESIDENT I HAVE EVER KNOWN FINALLY GONE.Zmbabwe is free again.', 'type': 'status', 'updated_time': '2017-11-21T16:00:41+0000'}, {'id': '10226451930275156_10214739895241600', 'created_time': '2017-11-21T15:49:23+0000', 'message': 'Dictactorship finally comes to an end.Mugabe resigns', 'type': 'status', 'updated_time': '2017-11-21T15:49:55+0000'}, {'id': '10226451930275156_10214739883601309', 'created_time': '2017-11-21T15:46:36+0000', 'message': 'Breaking news.Mugabe has resigned', 'type': 'status', 'updated_time': '2017-11-21T15:46:36+0000'}, {'id': '10226451930275156_10214725817929676', 'created_time': '2017-11-19T19:23:02+0000', 'message': 'He did not resign..feeling sad', 'type': 'status', 'updated_time': '2017-11-19T20:27:13+0000'}, {'id': '10226451930275156_10214713023289818', 'created_time': '2017-11-18T08:34:03+0000', 'message': 'It is happening...in my lifetime. A long period of tyranny is coming to an END.', 'object_id': '10214713008929459', 'type': 'photo', 'updated_time': '2017-11-18T08:34:03+0000'}, {'id': '10226451930275156_10214601616104708', 'created_time': '2017-11-04T13:33:04+0000', 'message': 'IS THIS THE END OF ED?????????????????', 'type': 'link', 'updated_time': '2017-11-04T13:33:04+0000'}, {'id': '10226451930275156_10214600907486993', 'created_time': '2017-11-04T11:57:52+0000', 'type': 'status', 'updated_time': '2017-11-04T11:57:52+0000'}, {'id': '10226451930275156_10214585091011591', 'created_time': '2017-11-02T10:30:16+0000', 'type': 'status', 'updated_time': '2017-11-02T10:30:16+0000'}, {'id': '10226451930275156_10214577987794015', 'created_time': '2017-11-01T13:24:13+0000', 'type': 'status', 'updated_time': '2017-11-01T13:24:13+0000'}, {'id': '10226451930275156_10214568601839372', 'created_time': '2017-10-31T10:22:34+0000', 'type': 'status', 'updated_time': '2017-10-31T10:22:34+0000'}, {'id': '10226451930275156_10214568600919349', 'created_time': '2017-10-31T10:22:19+0000', 'type': 'status', 'updated_time': '2017-10-31T10:22:19+0000'}, {'id': '10226451930275156_10214568596519239', 'created_time': '2017-10-31T10:21:10+0000', 'type': 'status', 'updated_time': '2017-10-31T10:21:10+0000'}, {'id': '10226451930275156_10214555665995984', 'created_time': '2017-10-29T17:08:50+0000', 'message': 'Girona 2-Real Madrid 1.The Catalans the victors.', 'type': 'status', 'updated_time': '2017-10-29T17:08:50+0000'}, {'id': '10226451930275156_10214546602649406', 'created_time': '2017-10-28T14:12:40+0000', 'message': 'SAN MAMES ES EL LLOC. SOM EL BARCA.EL MILLOR CLUB DEL MON. FORCA BARCA....VISCA EL BARCA', 'object_id': '10214546571688632', 'type': 'photo', 'updated_time': '2017-10-28T14:12:40+0000'}, {'id': '10226451930275156_10214395357668376', 'created_time': '2017-10-11T01:38:17+0000', 'message': 'ALBICELESTE THROUGH TO RUSSIA 2018. THANKS TO THE LITTLE GENIUS.', 'object_id': '10214395335667826', 'type': 'photo', 'updated_time': '2017-10-11T01:38:17+0000'}, {'id': '10226451930275156_10214395244185539', 'created_time': '2017-10-11T01:19:50+0000', 'message': 'G.O.A.T.', 'object_id': '10214395240505447', 'type': 'photo', 'updated_time': '2017-10-11T01:19:50+0000'}, {'id': '10226451930275156_10214395100261941', 'created_time': '2017-10-11T00:52:10+0000', 'message': 'Messiiiiiiii...GOAT.', 'type': 'status', 'updated_time': '2017-10-11T00:52:10+0000'}, {'id': '10226451930275156_10214394690571699', 'created_time': '2017-10-10T23:51:23+0000', 'message': 'Mesiiiiiiii ...scores once again..2-1.', 'type': 'status', 'updated_time': '2017-10-10T23:51:23+0000'}, {'id': '10226451930275156_10214348735142842', 'created_time': '2017-10-05T09:41:39+0000', 'type': 'status', 'updated_time': '2017-10-05T09:41:39+0000'}, {'id': '10226451930275156_10214332347653165', 'created_time': '2017-10-03T05:38:43+0000', 'type': 'status', 'updated_time': '2017-10-03T05:38:43+0000'}, {'id': '10226451930275156_10214320680201486', 'created_time': '2017-10-01T16:44:08+0000', 'message': 'Problems in Catalonia -Yes. Problems in Camp Nou-No. Barca  cruise to a 3-0 win over Las Palmas in a virtually empty stadium. FORCA BARCA-MES UN QUE CLUB.', 'object_id': '10214320659600971', 'type': 'photo', 'updated_time': '2017-10-01T16:45:50+0000'}, {'id': '10226451930275156_10214319416769901', 'created_time': '2017-10-01T14:15:22+0000', 'message': 'Barca vs Las Palmas being played behind closed doors due to the referendum in Catalonia.Forca Barca...Visca el Barca.', 'type': 'status', 'updated_time': '2017-10-01T19:40:40+0000'}, {'id': '10226451930275156_10214295898221952', 'created_time': '2017-09-28T14:10:44+0000', 'type': 'status', 'updated_time': '2017-09-28T14:10:44+0000'}, {'id': '10226451930275156_10214279550093259', 'created_time': '2017-09-26T10:58:06+0000', 'type': 'status', 'updated_time': '2017-09-26T10:58:06+0000'}, {'id': '10226451930275156_10214236501657075', 'created_time': '2017-09-20T21:52:23+0000', 'message': 'Betis scores..Ha ha ha', 'type': 'status', 'updated_time': '2017-09-21T03:55:50+0000'}, {'id': '10226451930275156_10214089902992200', 'created_time': '2017-09-02T07:07:15+0000', 'object_id': '10214089902552189', 'type': 'photo', 'updated_time': '2017-09-02T07:07:15+0000'}, {'id': '10226451930275156_10213595581674476', 'created_time': '2017-07-10T11:40:46+0000', 'message': 'Had to endure a nervy period after the fall of the 7th wicket.But the boys held their nerve and saw the game off.Well done Zimbabwe Cricket team.First ODI series win in eight years.', 'type': 'status', 'updated_time': '2017-07-10T11:41:11+0000'}, {'id': '10226451930275156_10213586982979514', 'created_time': '2017-07-09T14:56:03+0000', 'message': 'There is certainly hope and future in Zim football.Talent Chawapiwa ..what a game he had.', 'type': 'status', 'updated_time': '2017-07-09T14:56:03+0000'}, {'id': '10226451930275156_10213586655371324', 'created_time': '2017-07-09T14:16:35+0000', 'message': 'As it stands in the battle of Rhodesia.Southern Rhodesia 2 Nothern Rhodesia 1.The rivarly continues.', 'type': 'status', 'updated_time': '2017-07-09T14:32:54+0000'}, {'id': '10226451930275156_10213509459081465', 'created_time': '2017-07-02T15:06:40+0000', 'message': 'Meanwhile, reports say that there is weeping and sobbing in Mbare.Ha ha ha.Kepe Kepe bhora.', 'type': 'status', 'updated_time': '2017-07-02T15:06:40+0000'}, {'id': '10226451930275156_10213509360639004', 'created_time': '2017-07-02T14:56:23+0000', 'message': 'Nyika Yese iri kufara.....', 'type': 'status', 'updated_time': '2017-07-02T14:56:23+0000'}, {'id': '10226451930275156_10213509321878035', 'created_time': '2017-07-02T14:54:11+0000', 'message': 'Yeahhhhhhhh  Kepe Kepe Bhora', 'type': 'status', 'updated_time': '2017-07-02T14:54:11+0000'}, {'id': '10226451930275156_10213358357784027', 'created_time': '2017-06-18T18:51:15+0000', 'message': 'Chile goal ruled offside.Thanks to VAR.The era of offside goals is coming to an end.But their VAR decisions need to be a little bit quicker.', 'type': 'status', 'updated_time': '2017-06-18T18:51:15+0000'}, {'id': '10226451930275156_10213205570044429', 'created_time': '2017-06-03T19:15:37+0000', 'message': 'Classical goal from Juventus...1-1.Game on.', 'type': 'status', 'updated_time': '2017-06-03T19:15:37+0000'}, {'id': '10226451930275156_10213134213140551', 'created_time': '2017-05-27T13:10:36+0000', 'message': 'BANKING,FINANCE AND INSURANCE EXPO.GABORONE 1ST-3RD OF JUNE 2017, GABORONE.', 'object_id': '1077039902428767', 'type': 'photo', 'updated_time': '2017-05-27T13:10:36+0000'}, {'id': '10226451930275156_10212845752809223', 'created_time': '2017-04-26T18:56:13+0000', 'message': 'Breaking News:Mascherano scores his first Barcelona goal since joining Barca in 2010.', 'type': 'status', 'updated_time': '2017-04-26T18:56:13+0000'}, {'id': '10226451930275156_10212818520368429', 'created_time': '2017-04-23T20:38:27+0000', 'message': 'L.Messi wins it for FC Barcelona....Visca el Barca', 'type': 'status', 'updated_time': '2017-04-23T20:38:27+0000'}, {'id': '10226451930275156_10212818502407980', 'created_time': '2017-04-23T20:37:04+0000', 'message': 'Messsiiiiiiiiiiiiiiiiiiii', 'type': 'status', 'updated_time': '2017-04-23T20:37:04+0000'}, {'id': '10226451930275156_10212818497727863', 'created_time': '2017-04-23T20:36:50+0000', 'message': 'Mesiiiiiiiiiiiiiiiiiiikiii', 'type': 'status', 'updated_time': '2017-04-23T20:36:50+0000'}, {'id': '10226451930275156_10212817968314628', 'created_time': '2017-04-23T19:19:23+0000', 'message': 'Goaal..what a goal by the best footballer in the world', 'type': 'status', 'updated_time': '2017-04-23T20:44:45+0000'}, {'id': '10226451930275156_10212817939313903', 'created_time': '2017-04-23T19:15:30+0000', 'message': 'Another offside goal in 3 days.Just give them La liga', 'type': 'status', 'updated_time': '2017-04-23T21:33:14+0000'}, {'id': '10226451930275156_10212352815806106', 'created_time': '2017-03-08T21:50:15+0000', 'message': 'Believe believe believe believe ....Barcaaaaaaaaaa', 'type': 'status', 'updated_time': '2017-03-08T21:50:15+0000'}, {'id': '10226451930275156_10212352805085838', 'created_time': '2017-03-08T21:49:11+0000', 'message': 'I cant hold myself ...My happiest day of my life', 'type': 'status', 'updated_time': '2017-03-08T21:58:29+0000'}, {'id': '10226451930275156_10212352783485298', 'created_time': '2017-03-08T21:46:02+0000', 'message': 'Barca Barca Barca Batca', 'type': 'status', 'updated_time': '2017-03-08T21:46:02+0000'}, {'id': '10226451930275156_10212351416371121', 'created_time': '2017-03-08T18:56:10+0000', 'message': 'THEY BELIEVE ..WE BELIEVE.THEY HOPE ..WE HOPE.THEY DREAM..WE DREAM.EVERYONE BEHIND THE TEAM ...FORCA BARCA.', 'object_id': '10212351397210642', 'type': 'photo', 'updated_time': '2017-03-08T21:53:47+0000'}, {'id': '10226451930275156_10212314126918908', 'created_time': '2017-03-04T21:48:15+0000', 'message': 'He make me hope-he make me believe. Anything is possible with him on the pitch. PSG here we come.Visca el Barca.', 'object_id': '10212314113598575', 'type': 'photo', 'updated_time': '2017-03-05T14:46:16+0000'}, {'id': '10226451930275156_10212313814111088', 'created_time': '2017-03-04T21:08:44+0000', 'message': 'Exhibtion football from FC Barcelona .Messi with another magical goal to make it 5', 'type': 'status', 'updated_time': '2017-03-04T21:08:44+0000'}, {'id': '10226451930275156_10212313512623551', 'created_time': '2017-03-04T20:29:50+0000', 'message': 'Scintilating football from Barca.My Barca is back at their best...Visca el Barca.', 'type': 'status', 'updated_time': '2017-03-04T20:29:50+0000'}, {'id': '10226451930275156_10212313358499698', 'created_time': '2017-03-04T20:12:45+0000', 'message': 'What a magical goal by Leo Messi...the best football player ever', 'type': 'status', 'updated_time': '2017-03-04T20:12:45+0000'}, {'id': '10226451930275156_10212258726373929', 'created_time': '2017-02-26T17:07:01+0000', 'message': 'Barca gets a vital win at the Calderon ...Visca el Barca', 'type': 'status', 'updated_time': '2017-02-26T17:07:01+0000'}, {'id': '10226451930275156_10212258668572484', 'created_time': '2017-02-26T16:58:46+0000', 'message': 'Mesiiiiiiiiiiiii.....2-1.Hang on guys.Forca Barca.', 'type': 'status', 'updated_time': '2017-02-26T16:58:46+0000'}, {'id': '10226451930275156_10212197575485195', 'created_time': '2017-02-19T21:43:48+0000', 'message': 'Another uninspiring performance. No motivation...no excitement.This is not the Barca i know. Enrique oooooooooooout.......Ronald Koeman innnnnn', 'type': 'status', 'updated_time': '2017-02-19T21:43:48+0000'}, {'id': '10226451930275156_10212072290273143', 'created_time': '2017-02-07T22:05:30+0000', 'message': 'Barca negotiates a tough match..through to first final of the season.Visca el Barca.', 'type': 'status', 'updated_time': '2017-02-07T22:05:30+0000'}, {'id': '10226451930275156_10212054312943721', 'created_time': '2017-02-05T20:53:36+0000', 'message': 'Cameroon ...deserved Champions of Africa.Congratulations.', 'type': 'status', 'updated_time': '2017-02-05T20:53:36+0000'}, {'id': '10226451930275156_10212051269627640', 'created_time': '2017-02-05T15:24:36+0000', 'message': 'Jesus(not of Nazareth but of Brazil) saves Man City.', 'type': 'status', 'updated_time': '2017-02-05T15:24:36+0000'}, {'id': '10226451930275156_10212042032356714', 'created_time': '2017-02-04T15:57:07+0000', 'message': 'What a goal by Messi from a tight angle...Genius', 'type': 'status', 'updated_time': '2017-02-04T15:57:07+0000'}, {'id': '10226451930275156_10212034913338743', 'created_time': '2017-02-03T20:06:09+0000', 'message': 'The legend is back at best club in the world.During your era you produced magic....Today we still witness magic. Once a cule...always a cule.Welcome back Gaucho.Visca el Barca..Mes Que Un Club.', 'object_id': '10212034874857781', 'type': 'photo', 'updated_time': '2017-02-03T20:06:09+0000'}, {'id': '10226451930275156_10212020783105496', 'created_time': '2017-02-02T07:44:36+0000', 'message': 'Life is lifeless without friends.Thank you all.Happy #friendsday.', 'object_id': '10212020783105496', 'type': 'video', 'updated_time': '2017-02-02T07:44:36+0000'}, {'id': '10226451930275156_10211980937949392', 'created_time': '2017-01-28T21:47:35+0000', 'message': 'Cameroon through to the semi finals after a nail biting penalty shootout', 'type': 'status', 'updated_time': '2017-01-28T21:47:35+0000'}, {'id': '10226451930275156_10211838859197512', 'created_time': '2017-01-15T17:54:26+0000', 'message': 'Dissapointed with our second half approach.I felt its a game we should have won.All the same we say Go Warriors go.', 'type': 'status', 'updated_time': '2017-01-15T17:54:26+0000'}, {'id': '10226451930275156_10211838279903030', 'created_time': '2017-01-15T16:29:32+0000', 'message': 'Gooooooooooal 2-1', 'type': 'status', 'updated_time': '2017-01-15T16:29:32+0000'}, {'id': '10226451930275156_10211838204181137', 'created_time': '2017-01-15T16:17:23+0000', 'message': 'Gooooooooooal.....1-1', 'type': 'status', 'updated_time': '2017-01-15T16:17:23+0000'}, {'id': '10226451930275156_10211837990295790', 'created_time': '2017-01-15T15:45:55+0000', 'message': 'GO WARRIORS GO', 'object_id': '10211837988175737', 'type': 'photo', 'updated_time': '2017-01-15T15:45:55+0000'}, {'id': '10226451930275156_10211789382960637', 'created_time': '2017-01-11T13:29:06+0000', 'message': 'That was the moment I annointed him a GOAT.Can he do it again tonight?Forca Barca...Mes Que Un Club.', 'object_id': '10155127136519305', 'type': 'video', 'updated_time': '2017-01-11T13:29:06+0000'}, {'id': '10226451930275156_10211789354519926', 'created_time': '2017-01-11T13:25:58+0000', 'object_id': '10155127136519305', 'type': 'video', 'updated_time': '2017-01-11T13:25:58+0000'}, {'id': '10226451930275156_10211571105783844', 'created_time': '2016-12-18T21:34:49+0000', 'message': 'Messi is a GOAT(Greatest of All Time)', 'type': 'status', 'updated_time': '2016-12-19T04:22:08+0000'}, {'id': '10226451930275156_10211570805936348', 'created_time': '2016-12-18T21:11:29+0000', 'message': 'Magical magical from Messi...Suarez finishes the rebound', 'type': 'status', 'updated_time': '2016-12-18T21:11:29+0000'}, {'id': '10226451930275156_10211475953725102', 'created_time': '2016-12-11T04:49:29+0000', 'message': '#yearinreview2016.There is no blessing greater than the gift of life.Lord thank you for keeping me alive.', 'object_id': '10211475953725102', 'type': 'video', 'updated_time': '2016-12-11T04:49:29+0000'}, {'id': '10226451930275156_10211378848337528', 'created_time': '2016-12-03T11:56:02+0000', 'message': 'It is matches like these when a team needs its fans.And definetely the whole Barca family will be behind its team today.Forca Barca...Mes Que Un Club.', 'object_id': '10211378839657311', 'type': 'photo', 'updated_time': '2016-12-03T12:32:45+0000'}, {'id': '10226451930275156_10211308092608679', 'created_time': '2016-11-26T14:51:33+0000', 'message': 'Congratualtions to Caps United.Champions of Zimbabwe.Kepe kepe bhora.', 'type': 'status', 'updated_time': '2016-11-26T14:51:33+0000'}, {'id': '10226451930275156_10211301933094695', 'created_time': '2016-11-25T20:56:33+0000', 'message': 'A big thank you.', 'type': 'status', 'updated_time': '2016-11-25T20:56:33+0000'}, {'id': '10226451930275156_10211301932974692', 'created_time': '2016-11-25T20:56:32+0000', 'message': 'A big thank you.', 'object_id': '10211301932974692', 'type': 'video', 'updated_time': '2016-11-25T20:56:32+0000'}, {'id': '10226451930275156_10211253761530436', 'created_time': '2016-11-20T14:35:52+0000', 'message': 'Embarassing scenes at Mandava Stadium.I condemn any form of violence in football.', 'type': 'status', 'updated_time': '2016-11-20T15:54:13+0000'}, {'id': '10226451930275156_10210974826997247', 'created_time': '2016-10-23T15:01:35+0000', 'message': '37 seconds..Chelsea scores', 'type': 'status', 'updated_time': '2016-10-23T15:01:35+0000'}, {'id': '10226451930275156_10210932509179328', 'created_time': '2016-10-19T21:07:26+0000', 'message': 'We do not just call it football...we call it magic.\\n\\nMAGICAL MESSI DOWNS MAN CITY.', 'object_id': '10210932500099101', 'type': 'photo', 'updated_time': '2016-10-19T21:07:26+0000'}, {'id': '10226451930275156_10210931964285706', 'created_time': '2016-10-19T20:15:09+0000', 'message': 'Hat trick for Messi..3-0', 'type': 'status', 'updated_time': '2016-10-19T20:15:09+0000'}, {'id': '10226451930275156_10210931903764193', 'created_time': '2016-10-19T20:06:38+0000', 'message': 'Mesiiiiii once again', 'type': 'status', 'updated_time': '2016-10-19T20:06:38+0000'}, {'id': '10226451930275156_10210931379711092', 'created_time': '2016-10-19T19:05:07+0000', 'message': 'Mesiiiiiiiiiiiiiiiii', 'type': 'status', 'updated_time': '2016-10-19T19:05:07+0000'}, {'id': '10226451930275156_10210893529524861', 'created_time': '2016-10-16T14:54:09+0000', 'message': 'Gooooooal ...What a comeback from Caps Utd', 'type': 'status', 'updated_time': '2016-10-16T14:54:09+0000'}, {'id': '10226451930275156_10210624982851362', 'created_time': '2016-09-18T12:56:14+0000', 'message': 'Mourinho kikikikikikiki', 'type': 'status', 'updated_time': '2016-09-18T12:56:14+0000'}, {'id': '10226451930275156_10210615232527610', 'created_time': '2016-09-17T11:45:12+0000', 'message': 'Great teamwork being displayed by MSN', 'type': 'status', 'updated_time': '2016-09-17T11:45:12+0000'}, {'id': '10226451930275156_10210351607737155', 'created_time': '2016-08-20T17:33:03+0000', 'message': 'Magic...magic ...magic ...magic at the  Camp Nou.', 'type': 'status', 'updated_time': '2016-08-20T17:33:03+0000'}, {'id': '10226451930275156_10210349600126966', 'created_time': '2016-08-20T12:42:10+0000', 'message': 'FOOTBALL RETURNS ....THE INTRICATE PASSES PASSES, THE DRIBBLING, THE PRESSING, THE FINEST TACKLES ...ALL IN ONE.AT BARCA WE DO NOT ONLY CALL IT FOOTBALL ..WE CALL IT MAGIC.VISCA EL BARCA -THE BEST FOOTBALL CLUB OF THE LAST DECADE.', 'object_id': '10210349535765357', 'type': 'photo', 'updated_time': '2016-08-20T12:42:10+0000'}, {'id': '10226451930275156_10210019010022420', 'created_time': '2016-07-13T17:53:11+0000', 'message': 'Pastor Evan Mawarire has been freed.God is with us.', 'type': 'status', 'updated_time': '2016-07-13T17:53:11+0000'}, {'id': '10226451930275156_10209993664868807', 'created_time': '2016-07-10T21:35:35+0000', 'message': 'From being almost out in the group stage..Portugal wins Euro 2016.Amazing...', 'type': 'status', 'updated_time': '2016-07-10T21:45:11+0000'}, {'id': '10226451930275156_10209993651668477', 'created_time': '2016-07-10T21:33:34+0000', 'message': 'Congratulations to Portugal.Euro 2016 Champions.', 'type': 'status', 'updated_time': '2016-07-10T21:33:34+0000'}, {'id': '10226451930275156_10209964356416114', 'created_time': '2016-07-07T20:35:55+0000', 'message': 'Im not an ATM but i like Griezmann..the best striker of Euro 2016.', 'type': 'status', 'updated_time': '2016-07-07T20:35:55+0000'}, {'id': '10226451930275156_10209962984021805', 'created_time': '2016-07-07T16:53:02+0000', 'message': 'Proud of my fellow countrymen.', 'object_id': '10209962979381689', 'type': 'photo', 'updated_time': '2016-07-07T16:53:02+0000'}, {'id': '10226451930275156_10209926449868474', 'created_time': '2016-07-02T21:49:34+0000', 'message': 'Germany wins penalty shootout', 'type': 'status', 'updated_time': '2016-07-02T21:49:34+0000'}, {'id': '10226451930275156_10209926435828123', 'created_time': '2016-07-02T21:45:06+0000', 'message': 'Penalty shootout drama', 'type': 'status', 'updated_time': '2016-07-02T21:45:06+0000'}, {'id': '10226451930275156_10209887098964726', 'created_time': '2016-06-27T20:51:04+0000', 'message': 'Iceland shock England ...unbelievable.', 'type': 'status', 'updated_time': '2016-06-27T20:51:04+0000'}, {'id': '10226451930275156_10209881321020281', 'created_time': '2016-06-27T02:55:03+0000', 'message': 'Argentina fail to win Copa America once again...Losing in penalty shootout', 'type': 'status', 'updated_time': '2016-06-27T02:55:03+0000'}, {'id': '10226451930275156_10209881313620096', 'created_time': '2016-06-27T02:53:46+0000', 'message': 'Advantage Chile', 'type': 'status', 'updated_time': '2016-06-27T02:53:46+0000'}, {'id': '10226451930275156_10209871786581926', 'created_time': '2016-06-25T21:33:25+0000', 'message': 'A boring match ends 1-0 in favour of Portugal', 'type': 'status', 'updated_time': '2016-06-25T21:33:25+0000'}, {'id': '10226451930275156_10209868829908011', 'created_time': '2016-06-25T15:43:17+0000', 'message': 'Shaqiri out of Euros..dissapointed...', 'type': 'status', 'updated_time': '2016-06-25T15:43:17+0000'}, {'id': '10226451930275156_10209868384696881', 'created_time': '2016-06-25T14:41:19+0000', 'message': 'What a goal from Shaqiri', 'type': 'status', 'updated_time': '2016-06-25T14:41:19+0000'}, {'id': '10226451930275156_10209858199362254', 'created_time': '2016-06-24T09:02:41+0000', 'message': 'UK DECIDES TO LEAVE EU. DAVID CAMERON RESIGNS , BRITISH POUND DROP TO A 30 YEAR LOW , MARKETS ACROSS THE WORLD TUMBLE AMID THE SHOCKING NEWS.#BREXIT', 'type': 'status', 'updated_time': '2016-06-24T09:02:41+0000'}, {'id': '10226451930275156_10209800549121034', 'created_time': '2016-06-17T20:57:50+0000', 'message': 'Football made easy by Don Andres Iniesta.When they say football is the most beautiful game..he is one of those  who make it look beautiful.', 'object_id': '10209800494879678', 'type': 'photo', 'updated_time': '2016-06-17T20:57:50+0000'}, {'id': '10226451930275156_10209800143990906', 'created_time': '2016-06-17T20:07:30+0000', 'message': 'What a pass from Iniesta...', 'type': 'status', 'updated_time': '2016-06-17T20:07:30+0000'}, {'id': '10226451930275156_10209772976191728', 'created_time': '2016-06-14T20:51:47+0000', 'message': 'A shock result as Iceland hold Portugal to a 1-1 draw.', 'type': 'status', 'updated_time': '2016-06-14T20:51:47+0000'}, {'id': '10226451930275156_10209762407807525', 'created_time': '2016-06-13T14:55:20+0000', 'message': 'Espania off the mark....Albeceleste through to the Quarter Finals of Copa America.Its looking good for my teams.', 'type': 'status', 'updated_time': '2016-06-13T14:55:20+0000'}, {'id': '10226451930275156_10209712797087288', 'created_time': '2016-06-07T21:01:30+0000', 'message': 'BE THE LIGHT OF THE WORLD....I MISS A SHONA MASS-HAD TO LISTEN TO A NUMBER OF SHONA CATHOLIC SONGS  BEFORE I SLEEP .', 'type': 'video', 'updated_time': '2016-06-07T21:01:30+0000'}, {'id': '10226451930275156_10209695172246678', 'created_time': '2016-06-05T14:59:36+0000', 'message': 'Guinea loses 1-0 to Swaziland, Zim wins 3-0  against Malawi and qualifies for Afcon 2017.Congratulations to the Warriors.', 'type': 'status', 'updated_time': '2016-06-08T16:03:30+0000'}, {'id': '10226451930275156_10209695157766316', 'created_time': '2016-06-05T14:56:57+0000', 'message': 'JUST IN: ZIM QUALIFIES FOR AFCON 2017.', 'type': 'status', 'updated_time': '2016-06-05T14:56:57+0000'}, {'id': '10226451930275156_10209694661473909', 'created_time': '2016-06-05T13:43:41+0000', 'message': 'Still 0-0 in Mbabane', 'type': 'status', 'updated_time': '2016-06-05T13:43:41+0000'}, {'id': '10226451930275156_10209694654073724', 'created_time': '2016-06-05T13:42:24+0000', 'message': 'Khamaaaaa   2-0', 'type': 'status', 'updated_time': '2016-06-05T13:42:24+0000'}, {'id': '10226451930275156_10209694510230128', 'created_time': '2016-06-05T13:21:18+0000', 'message': 'Musonaaaaaaa 1-0', 'type': 'status', 'updated_time': '2016-06-05T13:21:18+0000'}, {'id': '10226451930275156_10209694441988422', 'created_time': '2016-06-05T13:06:10+0000', 'message': 'Go Warriors go', 'type': 'status', 'updated_time': '2016-06-05T13:06:10+0000'}, {'id': '10226451930275156_10209634563371494', 'created_time': '2016-05-28T21:35:30+0000', 'message': 'The most undeserved victory in the history of football', 'type': 'status', 'updated_time': '2016-05-29T14:54:34+0000'}, {'id': '10226451930275156_10209634212042711', 'created_time': '2016-05-28T20:27:44+0000', 'message': 'Goaaal....Game on', 'type': 'status', 'updated_time': '2016-05-28T20:27:44+0000'}, {'id': '10226451930275156_10209589216637854', 'created_time': '2016-05-22T22:20:54+0000', 'message': 'Football made easy by Don Andres Iniesta...what a match from him ..', 'type': 'status', 'updated_time': '2016-05-22T22:20:54+0000'}, {'id': '10226451930275156_10209589178596903', 'created_time': '2016-05-22T22:13:16+0000', 'message': 'Messi is a genius...when you have such a player in your team you know trophies are guaranteed.', 'type': 'status', 'updated_time': '2016-05-22T22:13:16+0000'}, {'id': '10226451930275156_10209589136595853', 'created_time': '2016-05-22T22:09:04+0000', 'message': '28th Copa Del Rey title for Barca..the best football club of the new millenium', 'type': 'status', 'updated_time': '2016-05-22T22:09:04+0000'}, {'id': '10226451930275156_10209589120635454', 'created_time': '2016-05-22T22:06:57+0000', 'message': 'Barcaaaa Copa Del Rel winners...Visca el Barca', 'type': 'status', 'updated_time': '2016-05-22T22:06:57+0000'}, {'id': '10226451930275156_10209589105475075', 'created_time': '2016-05-22T22:05:12+0000', 'message': 'What an intelligent pass from Messi to make it 2-0', 'type': 'status', 'updated_time': '2016-05-22T22:05:12+0000'}, {'id': '10226451930275156_10209589100474950', 'created_time': '2016-05-22T22:04:30+0000', 'message': 'Neymarrrrrrr 2-0', 'type': 'status', 'updated_time': '2016-05-22T22:04:30+0000'}, {'id': '10226451930275156_10209588924230544', 'created_time': '2016-05-22T21:36:33+0000', 'message': 'Wat a pass from Messi', 'type': 'status', 'updated_time': '2016-05-22T21:36:33+0000'}, {'id': '10226451930275156_10209588922870510', 'created_time': '2016-05-22T21:36:08+0000', 'message': 'Albaaaaaaa.....1-0', 'type': 'status', 'updated_time': '2016-05-22T21:36:08+0000'}, {'id': '10226451930275156_10209587962206494', 'created_time': '2016-05-22T19:18:03+0000', 'message': 'EVERY SEASON WE DREAM OF WINNING ALL TROPHIES INCLUDING THE COPA DEL REY. WE WANT THE DOUBLE -WE BELIEVE IN DREAMS....VISCA EL BARCA', 'object_id': '10209587943646030', 'type': 'photo', 'updated_time': '2016-05-22T19:18:03+0000'}, {'id': '10226451930275156_10209528082669543', 'created_time': '2016-05-14T16:54:07+0000', 'message': 'CAMPIONES ...VISCA EL BARCA..MES QUE UN CLUB', 'object_id': '10209528079069453', 'type': 'photo', 'updated_time': '2016-05-14T16:54:07+0000'}, {'id': '10226451930275156_10209528065229107', 'created_time': '2016-05-14T16:49:45+0000', 'message': 'Visca el Barcaaaaaaaaaa', 'type': 'status', 'updated_time': '2016-05-14T16:49:45+0000'}, {'id': '10226451930275156_10209528060828997', 'created_time': '2016-05-14T16:49:26+0000', 'message': 'Breaking News...Barcelona are the Champions of Spain', 'type': 'status', 'updated_time': '2016-05-14T16:49:26+0000'}, {'id': '10226451930275156_10209527985547115', 'created_time': '2016-05-14T16:42:13+0000', 'message': 'Susrez 3-0 We are the Champions', 'type': 'status', 'updated_time': '2016-05-14T16:42:13+0000'}], 'paging': {'previous': 'https://graph.facebook.com/v12.0/10226451930275156/posts?access_token=EAAEHNsZAK8n0BACvNxpZB0Gkl5YLE1bk19FOw63syjDdxWHYIJRAUOpXB3tABZCHmkkHIMrirPZC9plS7EUTffFosWs5mD3PqLrH9LcXg2fNHnuf1gDGSgKLZB3fUDvIxKeYabB1IfSa6dxH1m5T7WxHAJxttz5s7kYErj0Q1u1WhwpaJd9HVj0zA5pFR32M2EwOZCP6D1XQcIqqsOL6ah5Bqy8Pv1fq2maJ4omfkZBgk5GcZBZA6J6tZA&fields=id%2Ccreated_time%2Cmessage%2Cshares%2Cobject_id%2Ctime_visibility%2Ctype%2Cupdated_time&__previous=1&since=1643044027&until&__paging_token=enc_AdALvEJsQmzlJ5ky6eKoorwq1Azx3VDnTOVekUrNXijZAAZApfS5ge3i4IhPkIMZAZB6qfNSwgnUpleRan2lHw0ZAZBfQFnGUK4ZAr2H3ZBUOqZA2ZCsY58ZCG9k26QtPMXygZCoZBcBXXHwZD', 'next': 'https://graph.facebook.com/v12.0/10226451930275156/posts?access_token=EAAEHNsZAK8n0BACvNxpZB0Gkl5YLE1bk19FOw63syjDdxWHYIJRAUOpXB3tABZCHmkkHIMrirPZC9plS7EUTffFosWs5mD3PqLrH9LcXg2fNHnuf1gDGSgKLZB3fUDvIxKeYabB1IfSa6dxH1m5T7WxHAJxttz5s7kYErj0Q1u1WhwpaJd9HVj0zA5pFR32M2EwOZCP6D1XQcIqqsOL6ah5Bqy8Pv1fq2maJ4omfkZBgk5GcZBZA6J6tZA&fields=id%2Ccreated_time%2Cmessage%2Cshares%2Cobject_id%2Ctime_visibility%2Ctype%2Cupdated_time&until=1463244133&since&__paging_token=enc_AdAySq0jsqPogPJV15oh4WPhVWZAmZCxn5I2eX9faeBrQq8y9nxfB4rT6UvuUgqLw9mhcdZAH1f1v5UN4Jsut2Nqz0V6PVwS4gZClfwLtm9fAIWdN6JcLTnlHAZAYbH63oK6ZBXHQZD&__previous'}}\n"
     ]
    }
   ],
   "source": [
    "##Extracting information about page posts \n",
    "url_posts = \"https://graph.facebook.com/v12.0/me/posts?fields=id,created_time,message,shares,object_id,time_visibility,type,updated_time&limit=1000&access_token=\" + token\n",
    "#Extracting posts data\n",
    "myuser_posts = requests.get(url_posts).json()\n",
    "print(myuser_posts)"
   ]
  },
  {
   "cell_type": "code",
   "execution_count": 57,
   "metadata": {},
   "outputs": [
    {
     "name": "stdout",
     "output_type": "stream",
     "text": [
      "1\n"
     ]
    }
   ],
   "source": [
    "x = myuser_posts['data'][30]['shares']['count']\n",
    "print(x)"
   ]
  },
  {
   "cell_type": "code",
   "execution_count": null,
   "metadata": {},
   "outputs": [],
   "source": []
  },
  {
   "cell_type": "code",
   "execution_count": 66,
   "metadata": {},
   "outputs": [
    {
     "name": "stdout",
     "output_type": "stream",
     "text": [
      "{'id': '10226451930275156_10226425344370525', 'created_time': '2021-12-22T10:43:23+0000', 'object_id': '2176325309172638', 'type': 'photo', 'updated_time': '2021-12-22T10:43:23+0000', 'message': None, 'shares': None, 'time_visibility': None}\n"
     ]
    }
   ],
   "source": [
    "#Adding missing keys in an object \n",
    "object_fields = ['id', 'created_time', 'message', 'shares', 'object_id', 'time_visibility', 'type', 'updated_time']\n",
    "my_dict = myuser_posts['data'][4]\n",
    "for object_field in object_fields:\n",
    "    if object_field not in my_dict.keys():\n",
    "        my_dict[object_field] = None\n",
    "print(my_dict)\n"
   ]
  },
  {
   "cell_type": "code",
   "execution_count": 78,
   "metadata": {},
   "outputs": [],
   "source": [
    "#Extracting data values from each key\n",
    "post_id = my_dict['id']\n",
    "post_datetime = my_dict['created_time']\n",
    "def shares_value(): \n",
    "    if my_dict['shares'] != None:\n",
    "        value = my_dict['shares']['count']\n",
    "    else:\n",
    "        value = my_dict['shares']\n",
    "    return value\n",
    "post_shares = shares_value()\n",
    "post_object_id = my_dict['object_id']\n",
    "post_object_type = my_dict['type']\n",
    "post_time_visibility = my_dict['time_visibility']\n",
    "last_updated_time = my_dict['updated_time']"
   ]
  },
  {
   "cell_type": "code",
   "execution_count": 79,
   "metadata": {},
   "outputs": [
    {
     "name": "stdout",
     "output_type": "stream",
     "text": [
      "None\n"
     ]
    }
   ],
   "source": [
    "print(post_shares)"
   ]
  },
  {
   "cell_type": "code",
   "execution_count": 80,
   "metadata": {},
   "outputs": [],
   "source": [
    "#Creating a function that extracts data from an object \n",
    "def get_object_data(object_index):\n",
    "    object_fields = ['id', 'created_time', 'message', 'shares', 'object_id', 'time_visibility', 'type', 'updated_time']\n",
    "    my_dict = myuser_posts['data'][object_index]\n",
    "    for object_field in object_fields:\n",
    "        if object_field not in my_dict.keys():\n",
    "            my_dict[object_field] = None\n",
    "#Extracting data values from each key in an object \n",
    "    post_id = my_dict['id']\n",
    "    post_datetime = my_dict['created_time']\n",
    "    post_message = my_dict['message']\n",
    "    def shares_value(): \n",
    "        if my_dict['shares'] != None:\n",
    "            value = my_dict['shares']['count']\n",
    "        else:\n",
    "            value = my_dict['shares']   \n",
    "        return value\n",
    "    post_shares = shares_value()\n",
    "    post_object_id = my_dict['object_id']\n",
    "    post_object_type = my_dict['type']\n",
    "    post_time_visibility = my_dict['time_visibility']\n",
    "    last_updated_time = my_dict['updated_time']\n",
    "#Creating a new dictionary\n",
    "    new_dict = {\n",
    "        object_index: {'post_id': post_id,\n",
    "              'post_datetime': post_datetime,\n",
    "              'post_message': post_message,\n",
    "              'post_shares' : post_shares,\n",
    "              'post_object_id': post_object_id,\n",
    "              'post_object_type': post_object_type,\n",
    "              'post_time_visibility': post_time_visibility,\n",
    "              'last_updated_time': last_updated_time }\n",
    "    }\n",
    "    return new_dict"
   ]
  },
  {
   "cell_type": "code",
   "execution_count": 81,
   "metadata": {},
   "outputs": [
    {
     "data": {
      "text/plain": [
       "{28: {'post_id': '10226451930275156_10224479575447518',\n",
       "  'post_datetime': '2021-02-19T11:12:19+0000',\n",
       "  'post_message': None,\n",
       "  'post_shares': None,\n",
       "  'post_object_id': '10224479575247513',\n",
       "  'post_object_type': 'photo',\n",
       "  'post_time_visibility': None,\n",
       "  'last_updated_time': '2021-02-19T11:12:19+0000'}}"
      ]
     },
     "execution_count": 81,
     "metadata": {},
     "output_type": "execute_result"
    }
   ],
   "source": [
    "#Testing the function-getting the data for object(index =4) \n",
    "get_object_data(28)"
   ]
  },
  {
   "cell_type": "code",
   "execution_count": 94,
   "metadata": {},
   "outputs": [],
   "source": [
    "#Get data for all the objects and store them in a pandas dataframe\n",
    "def get_all_data():\n",
    "        my_newest_dict = { }\n",
    "        for object_index in range (0,len(myuser_posts['data'])):\n",
    "                data = get_object_data(object_index)\n",
    "                my_newest_dict.update(data)\n",
    "                data_df = pd.DataFrame.from_dict(my_newest_dict, orient= 'index')\n",
    "                \n",
    "        return data_df    "
   ]
  },
  {
   "cell_type": "code",
   "execution_count": 108,
   "metadata": {},
   "outputs": [
    {
     "data": {
      "text/html": [
       "<div>\n",
       "<style scoped>\n",
       "    .dataframe tbody tr th:only-of-type {\n",
       "        vertical-align: middle;\n",
       "    }\n",
       "\n",
       "    .dataframe tbody tr th {\n",
       "        vertical-align: top;\n",
       "    }\n",
       "\n",
       "    .dataframe thead th {\n",
       "        text-align: right;\n",
       "    }\n",
       "</style>\n",
       "<table border=\"1\" class=\"dataframe\">\n",
       "  <thead>\n",
       "    <tr style=\"text-align: right;\">\n",
       "      <th></th>\n",
       "      <th>post_id</th>\n",
       "      <th>post_datetime</th>\n",
       "      <th>post_message</th>\n",
       "      <th>post_shares</th>\n",
       "      <th>post_object_id</th>\n",
       "      <th>post_object_type</th>\n",
       "      <th>post_time_visibility</th>\n",
       "      <th>last_updated_time</th>\n",
       "    </tr>\n",
       "  </thead>\n",
       "  <tbody>\n",
       "    <tr>\n",
       "      <th>244</th>\n",
       "      <td>10226451930275156_10209587962206494</td>\n",
       "      <td>2016-05-22T19:18:03+0000</td>\n",
       "      <td>EVERY SEASON WE DREAM OF WINNING ALL TROPHIES ...</td>\n",
       "      <td>NaN</td>\n",
       "      <td>10209587943646030</td>\n",
       "      <td>photo</td>\n",
       "      <td>None</td>\n",
       "      <td>2016-05-22T19:18:03+0000</td>\n",
       "    </tr>\n",
       "    <tr>\n",
       "      <th>245</th>\n",
       "      <td>10226451930275156_10209528082669543</td>\n",
       "      <td>2016-05-14T16:54:07+0000</td>\n",
       "      <td>CAMPIONES ...VISCA EL BARCA..MES QUE UN CLUB</td>\n",
       "      <td>NaN</td>\n",
       "      <td>10209528079069453</td>\n",
       "      <td>photo</td>\n",
       "      <td>None</td>\n",
       "      <td>2016-05-14T16:54:07+0000</td>\n",
       "    </tr>\n",
       "    <tr>\n",
       "      <th>246</th>\n",
       "      <td>10226451930275156_10209528065229107</td>\n",
       "      <td>2016-05-14T16:49:45+0000</td>\n",
       "      <td>Visca el Barcaaaaaaaaaa</td>\n",
       "      <td>NaN</td>\n",
       "      <td>None</td>\n",
       "      <td>status</td>\n",
       "      <td>None</td>\n",
       "      <td>2016-05-14T16:49:45+0000</td>\n",
       "    </tr>\n",
       "    <tr>\n",
       "      <th>247</th>\n",
       "      <td>10226451930275156_10209528060828997</td>\n",
       "      <td>2016-05-14T16:49:26+0000</td>\n",
       "      <td>Breaking News...Barcelona are the Champions of...</td>\n",
       "      <td>NaN</td>\n",
       "      <td>None</td>\n",
       "      <td>status</td>\n",
       "      <td>None</td>\n",
       "      <td>2016-05-14T16:49:26+0000</td>\n",
       "    </tr>\n",
       "    <tr>\n",
       "      <th>248</th>\n",
       "      <td>10226451930275156_10209527985547115</td>\n",
       "      <td>2016-05-14T16:42:13+0000</td>\n",
       "      <td>Susrez 3-0 We are the Champions</td>\n",
       "      <td>NaN</td>\n",
       "      <td>None</td>\n",
       "      <td>status</td>\n",
       "      <td>None</td>\n",
       "      <td>2016-05-14T16:42:13+0000</td>\n",
       "    </tr>\n",
       "  </tbody>\n",
       "</table>\n",
       "</div>"
      ],
      "text/plain": [
       "                                 post_id             post_datetime  \\\n",
       "244  10226451930275156_10209587962206494  2016-05-22T19:18:03+0000   \n",
       "245  10226451930275156_10209528082669543  2016-05-14T16:54:07+0000   \n",
       "246  10226451930275156_10209528065229107  2016-05-14T16:49:45+0000   \n",
       "247  10226451930275156_10209528060828997  2016-05-14T16:49:26+0000   \n",
       "248  10226451930275156_10209527985547115  2016-05-14T16:42:13+0000   \n",
       "\n",
       "                                          post_message  post_shares  \\\n",
       "244  EVERY SEASON WE DREAM OF WINNING ALL TROPHIES ...          NaN   \n",
       "245       CAMPIONES ...VISCA EL BARCA..MES QUE UN CLUB          NaN   \n",
       "246                            Visca el Barcaaaaaaaaaa          NaN   \n",
       "247  Breaking News...Barcelona are the Champions of...          NaN   \n",
       "248                    Susrez 3-0 We are the Champions          NaN   \n",
       "\n",
       "        post_object_id post_object_type post_time_visibility  \\\n",
       "244  10209587943646030            photo                 None   \n",
       "245  10209528079069453            photo                 None   \n",
       "246               None           status                 None   \n",
       "247               None           status                 None   \n",
       "248               None           status                 None   \n",
       "\n",
       "            last_updated_time  \n",
       "244  2016-05-22T19:18:03+0000  \n",
       "245  2016-05-14T16:54:07+0000  \n",
       "246  2016-05-14T16:49:45+0000  \n",
       "247  2016-05-14T16:49:26+0000  \n",
       "248  2016-05-14T16:42:13+0000  "
      ]
     },
     "execution_count": 108,
     "metadata": {},
     "output_type": "execute_result"
    }
   ],
   "source": [
    "#Printing the pandas dataframe\n",
    "my_df = get_all_data()\n",
    "\n",
    "#Viewing the first rows of my pandas dataframe\n",
    "my_df.tail()"
   ]
  },
  {
   "cell_type": "code",
   "execution_count": 109,
   "metadata": {},
   "outputs": [
    {
     "name": "stdout",
     "output_type": "stream",
     "text": [
      "<class 'pandas.core.frame.DataFrame'>\n",
      "Int64Index: 249 entries, 0 to 248\n",
      "Data columns (total 8 columns):\n",
      " #   Column                Non-Null Count  Dtype  \n",
      "---  ------                --------------  -----  \n",
      " 0   post_id               249 non-null    object \n",
      " 1   post_datetime         249 non-null    object \n",
      " 2   post_message          218 non-null    object \n",
      " 3   post_shares           2 non-null      float64\n",
      " 4   post_object_id        90 non-null     object \n",
      " 5   post_object_type      249 non-null    object \n",
      " 6   post_time_visibility  0 non-null      object \n",
      " 7   last_updated_time     249 non-null    object \n",
      "dtypes: float64(1), object(7)\n",
      "memory usage: 17.5+ KB\n",
      "None\n"
     ]
    }
   ],
   "source": [
    "print(my_df.info())"
   ]
  },
  {
   "cell_type": "code",
   "execution_count": 250,
   "metadata": {},
   "outputs": [],
   "source": [
    "#Saving the data frame as a csv file \n",
    "#my_df.to_csv(\"facebook_posts.csv\", index=False)"
   ]
  },
  {
   "cell_type": "code",
   "execution_count": 113,
   "metadata": {},
   "outputs": [
    {
     "name": "stdout",
     "output_type": "stream",
     "text": [
      "0    None\n",
      "1    None\n",
      "2    None\n",
      "3    None\n",
      "4    None\n",
      "Name: post_shares, dtype: object\n"
     ]
    }
   ],
   "source": [
    "my_df['post_shares'] = my_df['post_shares'].astype('object').where(my_df['post_shares'].notna(), None )\n",
    "print(my_df['post_shares'].head())"
   ]
  },
  {
   "cell_type": "code",
   "execution_count": 114,
   "metadata": {},
   "outputs": [],
   "source": [
    "##Converting date into a form accceptable in SQL\n",
    "#post_datetime\n",
    "for index in range(0, len(my_df['post_datetime'])):\n",
    "    my_df['post_datetime'][index] = my_df['post_datetime'][index][:-5].replace('T', ' ')\n",
    "#last_updated_time\n",
    "for index in range(0, len(my_df['post_datetime'])):\n",
    "    my_df['last_updated_time'][index] = my_df['last_updated_time'][index][:-5].replace('T', ' ')\n",
    "   "
   ]
  },
  {
   "cell_type": "code",
   "execution_count": 115,
   "metadata": {},
   "outputs": [
    {
     "data": {
      "text/plain": [
       "0    2022-01-24 17:07:07\n",
       "1    2022-01-10 14:55:15\n",
       "2    2022-01-10 10:13:57\n",
       "3    2021-12-28 06:24:01\n",
       "4    2021-12-22 10:43:23\n",
       "Name: post_datetime, dtype: object"
      ]
     },
     "execution_count": 115,
     "metadata": {},
     "output_type": "execute_result"
    }
   ],
   "source": [
    "#Checking whether post_date_time has been converted \n",
    "my_df['post_datetime'].head()"
   ]
  },
  {
   "cell_type": "code",
   "execution_count": 101,
   "metadata": {},
   "outputs": [
    {
     "data": {
      "text/plain": [
       "0    2022-01-24 17:07:07\n",
       "1    2022-01-10 14:55:15\n",
       "2    2022-01-10 10:13:57\n",
       "3    2021-12-28 06:24:01\n",
       "4    2021-12-22 10:43:23\n",
       "Name: last_updated_time, dtype: object"
      ]
     },
     "execution_count": 101,
     "metadata": {},
     "output_type": "execute_result"
    }
   ],
   "source": [
    "#Check whether last_updated_time has been converted \n",
    "my_df['last_updated_time'].head()"
   ]
  },
  {
   "cell_type": "code",
   "execution_count": 116,
   "metadata": {},
   "outputs": [],
   "source": [
    "#Modifying the post ID to remain with the post identifier\n",
    "for index in range(0, len(my_df['post_id'])):\n",
    "    my_df['post_id'][index] = my_df['post_id'][index][18:]"
   ]
  },
  {
   "cell_type": "code",
   "execution_count": 117,
   "metadata": {},
   "outputs": [
    {
     "name": "stdout",
     "output_type": "stream",
     "text": [
      "0    10226602820727323\n",
      "1    10226525280268860\n",
      "2    10226524072998679\n",
      "3    10226455950215652\n",
      "4    10226425344370525\n",
      "Name: post_id, dtype: object\n"
     ]
    }
   ],
   "source": [
    "#Checking if post id has been modified \n",
    "print(my_df['post_id'].head())"
   ]
  },
  {
   "cell_type": "code",
   "execution_count": null,
   "metadata": {},
   "outputs": [],
   "source": [
    "#Convrting nan to None "
   ]
  },
  {
   "cell_type": "code",
   "execution_count": 118,
   "metadata": {},
   "outputs": [],
   "source": [
    "#A function to convert datafarme to a list of tuple\n",
    "def df_to_list_tuple (): \n",
    "    x= []\n",
    "    for row in my_df.itertuples(index=False, name= None):\n",
    "        x.append(row)\n",
    "    return(x)"
   ]
  },
  {
   "cell_type": "code",
   "execution_count": 119,
   "metadata": {},
   "outputs": [
    {
     "name": "stdout",
     "output_type": "stream",
     "text": [
      "[('10226602820727323', '2022-01-24 17:07:07', 'The Yellow we love💛💛💛💛🤗🤗', None, '10226602820567319', 'photo', None, '2022-01-24 17:07:07'), ('10226525280268860', '2022-01-10 14:55:15', 'Painful to concede at the end..but well played', None, None, 'status', None, '2022-01-10 14:55:15'), ('10226524072998679', '2022-01-10 10:13:57', None, None, '2190634834408352', 'photo', None, '2022-01-10 10:13:57'), ('10226455950215652', '2021-12-28 06:24:01', 'This game was lit. Newcastle played like they were possesed. De Gea putting in some stunning saves🙌', None, '436198218210685', 'video', None, '2021-12-28 06:24:01'), ('10226425344370525', '2021-12-22 10:43:23', None, None, '2176325309172638', 'photo', None, '2021-12-22 10:43:23'), ('10226309004142092', '2021-11-29 21:48:59', '7😍😍', None, '10226309003782083', 'photo', None, '2021-11-29 21:48:59'), ('10226295914934870', '2021-11-27 04:17:51', None, None, '625490781978540', 'video', None, '2021-11-27 04:17:51'), ('10226287315479889', '2021-11-25 11:25:39', 'My sincere thanks to friends and relatives who wished me a happy birthday yesterday. May the Lord bless you.', None, None, 'status', None, '2021-11-25 11:25:39'), ('10226246072088830', '2021-11-17 15:16:39', None, None, '141569765981546', 'link', None, '2021-11-17 15:16:39'), ('10225989652198493', '2021-10-03 18:22:14', 'If we praise Messi for such kind of goals, we should do the same to Mo Salah. What a goal he scored today...the kind of goals we wanna see.', None, '450544499658580', 'video', None, '2021-10-03 18:25:44'), ('10225963692269511', '2021-09-28 21:12:00', 'It had to be a beautiful one. What a goal from the G.O.A.T. Trademark goal....', None, '4349468008474929', 'video', None, '2021-09-28 21:12:00'), ('10225831979616777', '2021-09-04 05:06:01', 'One of my all time great. Magician...', None, '828005594524582', 'video', None, '2021-09-04 05:06:01'), ('10225811728630515', '2021-08-31 06:19:03', 'When Eric Cantona decided to speak in parables and left the audience shell-shocked😂😂', None, '883466845911035', 'video', None, '2021-08-31 06:19:03'), ('10225791591167091', '2021-08-27 16:20:00', 'Its official. Christiano is returning to Old Trafford after being intially linked to rivals Man City.', None, '10159889222798598', 'photo', None, '2021-08-27 16:20:00'), ('10225778423837916', '2021-08-25 11:05:34', 'Someone take this lady to Stamford Bridge.', None, '365215608449706', 'video', None, '2021-08-25 11:05:34'), ('10225678863028958', '2021-08-08 15:40:58', 'Gracias Leo ❤💙. Barca is your home. Like Johan Cruyff and  Pep Gurdiola you will be back to serve Barca in other roles.  Visca el Barca🔵🔴', None, '395032765321653', 'photo', None, '2021-08-08 15:40:58'), ('10225662628743111', '2021-08-05 18:13:46', 'Big News Coming from Camp Nou: Messi will not be staying at FC Barcelona.', None, None, 'status', None, '2021-08-05 18:13:46'), ('10225641389172135', '2021-08-02 08:27:08', None, None, '2064799013658602', 'photo', None, '2021-08-02 08:27:08'), ('10225491809632740', '2021-07-11 22:06:13', 'Facing a penalty shootout against a giant goalkeepeer Donnarumma is committing suicide. I knew its gonna end in tears for the English. Italy deserved winners of Euros judging by their performance from day 1. Congratulations Italy.Euro 2020 Champions.', None, None, 'status', None, '2021-07-11 22:06:13'), ('10225491726510662', '2021-07-11 21:57:04', 'It ended in tears for England. Its going to Rome.', None, None, 'status', None, '2021-07-11 21:57:04'), ('10225486676824423', '2021-07-11 02:12:34', 'After so many heartbreaks, Argentina and Messi finally wins an international trophy.Congratulations COPA America 2020 champions.', None, '10225486676064404', 'photo', None, '2021-07-11 02:12:34'), ('10225465641898563', '2021-07-07 22:07:31', 'England played better. But its so sad that in the era of VAR we are still having referees making dubious decisions.', None, None, 'status', None, '2021-07-07 22:07:31'), ('10225408820078053', '2021-06-28 21:46:24', 'Switzerland are through...What an extraordinary night of football.', None, None, 'status', None, '2021-06-28 22:09:02'), ('10225408598872523', '2021-06-28 20:50:04', 'Tell me a better sport than football.I will wait...Extraordinary matches we are watching.', None, None, 'status', None, '2021-06-28 21:34:49'), ('10225379360421580', '2021-06-24 16:22:14', \"Certified ballers....Certified GOAT's😍🔴🔵\", None, '363700321790602', 'photo', None, '2021-06-24 16:22:14'), ('10225345423853187', '2021-06-19 17:04:31', 'Welcome to Barca Mephis🔵🔴', None, '4327187970651062', 'photo', None, '2021-06-19 17:04:31'), ('10225203148656396', '2021-05-29 21:26:17', 'When you have this guy in your team ..its like your two extra players in your team. The amount of grass this guy can cover is phenomenal.\\n\\n Congratulations to Kante and Chelsea for winning the UCL.', None, '10225203148456391', 'photo', None, '2021-05-29 21:26:17'), ('10224825163166995', '2021-04-05 20:57:58', 'Never never give up.An important win in a tough match.Forca Barca🔵🔴', None, None, 'status', None, '2021-04-05 20:57:58'), ('10224479575447518', '2021-02-19 11:12:19', None, None, '10224479575247513', 'photo', None, '2021-02-19 11:12:19'), ('10223346858650306', '2020-09-25 12:34:23', None, 1.0, '1806911692780670', 'photo', None, '2020-09-25 12:34:23'), ('10223267912276696', '2020-09-13 19:00:28', None, 1.0, '1978287302469756', 'photo', None, '2020-09-13 19:00:28'), ('10223200345787576', '2020-09-04 15:43:47', None, None, '1971823109782842', 'photo', None, '2020-09-04 15:43:47'), ('10223200340147435', '2020-09-04 15:43:14', None, None, '1971775633120923', 'photo', None, '2020-09-04 15:43:14'), ('10223179731552233', '2020-09-01 20:52:01', None, None, '1969955826636237', 'photo', None, '2020-09-01 20:52:01'), ('10223024350867813', '2020-08-11 11:08:29', None, None, '10223024350427802', 'photo', None, '2020-08-11 11:08:29'), ('10222963006814250', '2020-08-03 18:40:21', 'Respect human rights.#Zimbabeanlivesmatter', None, '10222963006334238', 'photo', None, '2020-08-03 18:40:21'), ('10222896208064323', '2020-07-26 17:32:17', 'The lads celebrating surviving relegation...', None, '305304953954578', 'video', None, '2020-07-26 17:32:17'), ('10222896050620387', '2020-07-26 17:07:43', 'Villa and Nakamba stay up', None, '3434907903219921', 'photo', None, '2020-07-26 17:07:43'), ('10222457762743464', '2020-06-08 07:11:40', None, None, None, 'link', None, '2020-06-08 07:11:40'), ('10221440726038182', '2020-03-05 17:37:33', None, None, '1617315848406923', 'photo', None, '2020-03-05 17:37:33'), ('10221078728548471', '2020-01-26 20:18:15', 'RIP NBA legend Kobe Bryant', None, None, 'status', None, '2020-01-26 20:18:15'), ('10220578625246201', '2019-12-02 21:02:14', 'Best football player I have ever seen.We never get enough of your magical goals. Congratulations Leo...', None, '10220578624726188', 'photo', None, '2019-12-03 04:54:12'), ('10220570915933473', '2019-12-01 21:58:09', 'Messi was at the Wanda', None, '10220570915373459', 'photo', None, '2019-12-01 21:58:09'), ('10220502809630858', '2019-11-24 06:54:30', 'Sure.This is my day.', None, None, 'status', None, '2019-11-24 06:54:30'), ('10220008343869523', '2019-10-02 20:58:05', 'El Pisterello with a brace.Forca Barca.', None, '10220008333869273', 'photo', None, '2019-10-02 20:58:05'), ('10219933653162302', '2019-09-23 21:29:16', 'Best player I have ever seen.Just like the great Ronaldinho ...we will never have enough of your greatness and magic.Congratulations. G.O.A.T.', None, '3074741029212137', 'photo', None, '2019-09-23 21:29:16'), ('10219933638961947', '2019-09-23 21:25:47', None, None, '3074741029212137', 'photo', None, '2019-09-23 21:25:47'), ('10219918533424318', '2019-09-21 20:57:19', 'No away win in all competitions.\\n           Valverde Out', None, None, 'status', None, '2019-09-21 20:58:06'), ('10219710266737781', '2019-08-25 20:57:13', 'Off the mark Barca .Griezemann with a double . A debut for the young 16 year old Ansu Fati.Forca Barca.', None, '10219710241617153', 'photo', None, '2019-08-25 20:57:13'), ('10219565023146782', '2019-08-08 10:06:43', None, None, '10219565022786773', 'photo', None, '2019-08-08 10:06:43'), ('10219371308824045', '2019-07-14 18:32:20', 'What a sporting day.Djokovic won a nail biting tie moments ago.And just now England wins Cricket World Cup by a single run.Amazing', None, None, 'status', None, '2019-07-14 18:32:20'), ('10219370200676342', '2019-07-14 15:49:34', 'Congratulations.ZimGems .What a match it was', None, None, 'status', None, '2019-07-14 17:29:14'), ('10218886173255959', '2019-05-12 15:59:44', 'What a title race it has been!Liverpool ..97 points and failing to win the league.Its unfortunate one team has to win it.Congratulations Man City.Now Pep Gurdiola..come back home.', None, None, 'status', None, '2019-05-12 16:00:55'), ('10218858639487632', '2019-05-08 21:03:01', 'A season of comebacks. Ajax dream comes to an end.', None, None, 'status', None, '2019-05-08 21:03:01'), ('10218851817077076', '2019-05-07 20:57:32', 'Over the two legs Liverpool deserved to go through.Another dissapointing campaign for FC Barcelona.', None, None, 'status', None, '2019-05-07 20:57:32'), ('10218825140170170', '2019-05-04 08:19:55', 'And it was you Moses Murandu who invited me to this platform.10 years back and facebook didnt have as many people as it has today.', None, None, 'status', None, '2019-05-04 08:19:55'), ('10218806887153856', '2019-05-01 20:44:57', 'Mesiiiiiiiiiii....what a goal', None, None, 'status', None, '2019-05-01 20:44:57'), ('10218778020872217', '2019-04-27 21:15:20', '👏👏👏👏👏💙♥️💙♥️🔴🔵', None, '2312819742308153', 'video', None, '2019-04-27 21:15:20'), ('10218777795866592', '2019-04-27 20:47:32', 'CAMPEONES CAMPEONES  BARCA BARCA🔵🔴🔵🔴🔵🔵🔴🔵🔴🔵🔴🔵🔴🔵🔴🔵', None, '10218777791746489', 'photo', None, '2019-04-27 20:47:32'), ('10218706518924713', '2019-04-17 20:56:46', 'What a crazy crazy match....Spurs through', None, None, 'status', None, '2019-04-17 20:56:46'), ('10218699432747563', '2019-04-16 20:57:29', 'And Ajax knocks out Juve out of Champions League', None, None, 'status', None, '2019-04-17 06:37:16'), ('10218699419547233', '2019-04-16 20:55:44', 'Messi and Coutinho settles the tie.Forca Forca Barca🔵🔴🔵🔴🔵🔴🔵🔴🔵🔴', None, '10218699413147073', 'photo', None, '2019-04-16 20:55:44'), ('10218629627842484', '2019-04-06 20:55:08', 'La Liga loading.....Forca Barca🔴🔵♥️💙', None, '10218629626802458', 'photo', None, '2019-04-06 21:02:15'), ('10218382180696460', '2019-03-02 21:42:54', 'Barca rules El Clasico.Another win.Thanks to the Croatian Ivan Rakitic.Forca Barca🔵🔴', None, '10218382180416453', 'photo', None, '2019-03-02 21:42:54'), ('10218361771466242', '2019-02-27 21:57:01', 'A double for L.Suarez👏👏👏💙♥️.Well done lads.Forca Barca 🔵🔴', None, '10218361771226236', 'photo', None, '2019-02-27 21:57:01'), ('10218203454028405', '2019-02-06 21:58:10', 'A fight for another day.Forca Barca 🔴🔵', None, None, 'status', None, '2019-02-06 21:58:10'), ('10218096772921444', '2019-01-23 16:11:12', 'Rest in Peace.Hero of our times.Your legacy will truly live on.', None, '10218096763241202', 'photo', None, '2019-01-23 16:11:12'), ('10218017760466182', '2019-01-13 10:25:27', 'Rest in Peace Phil Masinga.You are one of the guys who made me fall in love with the game back then.Go well football legend.', None, '10218017760226176', 'photo', None, '2019-01-13 10:25:27'), ('10217910604267344', '2018-12-29 18:18:58', 'It looks like the match we were waiting for the whole day is over before half time.Dissapointing...', None, None, 'status', None, '2018-12-30 06:27:14'), ('10217786027713008', '2018-12-13 20:43:44', '🙄🙄Was this year only about ⚽⚽⚽ and 🔴🔵.Well that defines me.I love the game♥️♥️💙💙.', None, None, 'status', None, '2018-12-13 20:43:44'), ('10217748036763258', '2018-12-08 21:08:08', 'He is the GOAT.Full stop.', None, None, 'status', None, '2018-12-08 21:08:08'), ('10217633261293943', '2018-11-25 11:18:48', 'If you interested in being part of the data science community and you want to use open source software such as R and Python to analyse data, consider joining this group Pydata BW and be part of their meet-ups. Pydata BW is helping the country build data science capacity in Botswana.', None, None, 'status', None, '2018-11-25 14:30:26'), ('10217631751456198', '2018-11-25 05:12:16', 'Thank you very much to those who wished me a happy birthday yesterday.', None, None, 'status', None, '2018-11-25 05:14:30'), ('10217628376931837', '2018-11-24 19:45:53', 'What an atmosphere at the Wanda Metropolitano.Forca Barca🔴🔵', None, None, 'status', None, '2018-11-24 19:45:53'), ('10217441958551494', '2018-10-30 14:03:27', None, None, '10217441954071382', 'photo', None, '2018-10-30 14:03:27'), ('10217441936390940', '2018-10-30 14:01:03', None, None, '10217441935670922', 'photo', None, '2018-10-30 14:01:03'), ('10217429642283595', '2018-10-28 17:27:22', 'Forca Barca🔴🔵🖐🖐👏👏', None, '10217429565761682', 'photo', None, '2018-10-28 17:27:22'), ('10217427050538803', '2018-10-28 12:33:15', 'Forca Barcaaaaaaaaaa', None, '10217427014297897', 'photo', None, '2018-10-28 12:33:15'), ('10217245536281060', '2018-10-03 21:14:03', 'Magical performance form the little genius🔥🔥👏👏👏.Certainly the best footballer i have ever seen....after Ronaldinho and Zidane of course.', None, '10217245504840274', 'photo', None, '2018-10-03 21:26:50'), ('10216637130671300', '2018-07-15 15:37:10', 'Not a penalty for me', None, None, 'status', None, '2018-07-15 15:37:10'), ('10216637050829304', '2018-07-15 15:29:34', 'Ivan Perisic...Game on.', None, None, 'status', None, '2018-07-15 17:50:36'), ('10216608687760245', '2018-07-11 20:41:23', 'Football is going home?Well ..not now.Congratulations to Croatia.Congratulations to Ivan Rakitic.', None, None, 'status', None, '2018-07-11 20:41:23'), ('10216578933576409', '2018-07-07 20:54:51', 'Rakitic final penalty .....takes Croatia to the semi-final👏👏👏', None, None, 'status', None, '2018-07-07 20:55:22'), ('10216541217993543', '2018-07-02 19:54:05', 'What an escape for Belgium', None, None, 'status', None, '2018-07-02 19:54:05'), ('10216525847209283', '2018-06-30 20:03:12', 'FACT OF FOOTBALL:World Cup is never won by one man teams.Teamwork win you the World Cup.', None, None, 'status', None, '2018-06-30 20:03:12'), ('10216495657414557', '2018-06-26 20:05:51', 'GOD SAVE THE KING', None, '10216495651814417', 'photo', None, '2018-06-26 20:05:51'), ('10216495582852693', '2018-06-26 19:54:23', 'Im so happy ........', None, None, 'status', None, '2018-06-26 19:54:23'), ('10216450043954249', '2018-06-20 14:14:22', 'Morocco to exit World Cup playing the best football from an African team.Its a game they dominated ...and should have won if they had not wasted chances.', None, None, 'status', None, '2018-06-20 14:14:22'), ('10216429475120041', '2018-06-17 15:36:49', 'What a match Germany ..Mexico.Most exciting match so far.', None, None, 'status', None, '2018-06-17 16:53:09'), ('10216420282010219', '2018-06-16 12:53:16', 'The World Cup finally starts....The G.O.A.T and Albiceleste step onto the pitch.', None, None, 'status', None, '2018-06-16 15:28:41'), ('10216419413708512', '2018-06-16 09:37:10', 'Goodluck to our own Barca stars Ousmane Dembele and Samuel Umtiti as Les Blues take on Australia.', None, None, 'status', None, '2018-06-16 09:37:10'), ('10216415469729915', '2018-06-15 19:48:14', 'What a match..Spain dominating .Portugal refusing to bow down.The Iberian derby lighting up the World Cup.', None, None, 'status', None, '2018-06-15 19:48:14'), ('10216377816548609', '2018-06-10 09:58:26', 'Sweet sacrement we thee adore!\\nOh make us love thee more and more\\nOh make us love thee more and more', None, None, 'video', None, '2018-06-10 09:58:26'), ('10216273201693303', '2018-05-26 21:01:12', 'Two mistakes in one match...its unforgivable', None, None, 'status', None, '2018-05-26 21:01:12'), ('10216273044049362', '2018-05-26 20:28:55', 'Karius cost Liverpool once again', None, None, 'status', None, '2018-05-26 20:28:55'), ('10216272911766055', '2018-05-26 20:00:44', 'Goaaaal...Game on', None, None, 'status', None, '2018-05-26 20:00:44'), ('10216272713561100', '2018-05-26 19:15:13', 'Salah leaves the field.Culprit ..Ramos', None, None, 'status', None, '2018-05-26 19:15:13'), ('10216234118556249', '2018-05-20 20:48:39', '.Gracias Iniesta....Inifinit Iniesta.👏👏👏👏👏👏👏👏👏👏👏👏👏👏👏👏👏👏👏👏👏👏👏👏👏👏👏👏👏👏👏👏👏👏👏👏👏👏👏👏👏👏👏👏👏👏👏👏👏👏👏👏', None, '10216234022953859', 'photo', None, '2018-05-20 20:48:39'), ('10216205354357162', '2018-05-16 18:17:29', 'Sundowns players queing up to be taken up photos with the G.O.A.T.Thank you Barca for coming to S.A.Forca Barca ...Mes Que En Club.', None, None, 'status', None, '2018-05-16 18:17:29'), ('10216187053939663', '2018-05-13 20:40:47', 'Levante defeat a Messi-less Barca...become the first team to beat the Catalans the entire season.', None, None, 'status', None, '2018-05-13 20:40:47'), ('10216157262754902', '2018-05-09 18:01:38', 'Today against Villareal , FC Barcelona players are wearing shirts with names of their mothers at the back.Mes Que Un Club(More than just a club).', None, None, 'status', None, '2018-05-09 18:01:38'), ('10216137860109848', '2018-05-06 20:43:53', '10 Men Barca hold on to a draw...remain unbeaten in La liga.Forca Barca.', None, None, 'status', None, '2018-05-06 20:44:18'), ('10216084917866325', '2018-04-29 20:44:22', '2nd trophy of the season. 7th La Liga title in the past 10 years. 25th La liga title in the history of Fc Barcelona. CAMPIONES...CAMPIONES ...FORCA BARCA.', None, '10216084899585868', 'photo', None, '2018-04-29 20:44:22'), ('10216084862304936', '2018-04-29 20:35:43', 'BREAKING: LA LIGA CHAMPIONS 2017/2018 SEASON  FC Barcelona.', None, '10216084842344437', 'photo', None, '2018-04-29 20:36:27'), ('10216074948617100', '2018-04-28 13:55:25', None, None, None, 'status', None, '2018-04-28 13:55:25'), ('10216068600818409', '2018-04-27 16:35:35', 'I have no much words for this genius of the game except to say..... gracias Iniesta👏👏👏👏 for all the magical moments. The Barca family will miss you 😭😭😭. Hope to see you back at the club in another role.', None, '10216068559337372', 'photo', None, '2018-04-27 16:35:35'), ('10216049383377985', '2018-04-24 19:21:52', 'Mo-Salah...What a goal', None, None, 'status', None, '2018-04-24 19:21:52'), ('10216028689780658', '2018-04-21 21:38:50', 'Barca was Barca today. Scintilating exhibition football from the Catalans. Copa Del Rey Champions once again. Next...La liga  title. Forca  Barca.', None, '10216028671740207', 'photo', None, '2018-04-21 21:39:20'), ('10216028509096141', '2018-04-21 21:07:19', 'Football made easy by Don Andres Iniesta....He is on 🔥. 👏👏👏', None, '10216028454494776', 'photo', None, '2018-04-21 21:07:19'), ('10215953803308543', '2018-04-10 20:35:02', 'Embarassing', None, None, 'status', None, '2018-04-11 12:12:28'), ('10215878278180462', '2018-03-31 21:06:32', 'Next up. We welcome Roma at the Estadio de Camp Nou on Wednesday . Forca Barca. Mes Que Un Club(More than a club).', None, '10215878256979932', 'photo', None, '2018-03-31 21:07:02'), ('10215878214498870', '2018-03-31 20:53:44', 'Never give up..never never never ...never give up. It was all lost until he intervened with a late equalizer👏👏👏👏. Unbeaten run still intact.  Forca Barca.💪💪💪', None, '10215878181858054', 'photo', None, '2018-03-31 21:00:56'), ('10215878078655474', '2018-03-31 20:29:57', 'Mesiiiiiiiiiii', None, None, 'status', None, '2018-03-31 20:29:57'), ('10215726981038128', '2018-03-15 05:57:37', 'Is this the year of the G.O.A.T? Mesmerizing Messi downs Chelsea.👏👏👏👏💪💪', None, '10215726961397637', 'photo', None, '2018-03-15 05:58:11'), ('10215471417369196', '2018-02-14 19:35:06', 'RIP Morgan Tsvangirai.True hero of the struggle against tyranny.Forever my hero.', None, None, 'status', None, '2018-02-14 19:35:06'), ('10215324285650995', '2018-01-28 21:52:38', 'Suarez in fine form...Messi decisive as usual...Iniesta dazzles. Barca see off a stubborn Alaves to mantain unbeaten run in La Liga. .FORCA BARCA.MES QUE UN CLUB.💪💪💪👏👏👏', None, '10215324252250160', 'photo', None, '2018-01-28 21:52:38'), ('10215218552367729', '2018-01-17 18:27:59', 'We will never forget the magic. A unique player who played football with a smile. You were a joy to watch. No doubt, together with Lionel Messi and Zinedine Zidane  you to the best football players I have ever seen in my lifetime.You a true legend to many FC Barcelona fans like myself. Happy retirement #RonaldinhoGaucho10.', None, '10215218450205175', 'photo', None, '2018-01-17 18:31:05'), ('10215195776678351', '2018-01-14 21:40:01', 'Catch me if you can. The march towards a La liga title continues..Barcelona record their first win at the Anoeta  since 2007.  Forca Barca..Visca el Barca.', None, '10215195717076861', 'photo', None, '2018-01-14 21:40:01'), ('10215130017034401', '2018-01-06 19:10:55', 'Its official.He is ready to light up Camp Nou.Welcome to FC Barcelona Phillipe Coutinho.', None, None, 'link', None, '2018-01-06 19:36:24'), ('10215005352717871', '2017-12-23 14:13:10', 'You have to love this team. The best football club of the last decade. 3-0 victors are the Santiago Bernabeu.', None, '10215005333357387', 'photo', None, '2017-12-23 14:43:51'), ('10215005001629094', '2017-12-23 13:22:01', 'BARCAAAAAAAAAAAAAA', None, None, 'status', None, '2017-12-23 13:22:01'), ('10214995623514647', '2017-12-22 08:07:31', 'Yes yes we are ready for the El Clasico. Forca Barca.Mes Que Un Club.', None, '10214995580313567', 'photo', None, '2017-12-22 08:07:31'), ('10214949504721706', '2017-12-16 20:25:13', '16....👏👏👏👏👏👏👏👏👏', None, '10214949410519351', 'photo', None, '2017-12-16 20:25:13'), ('10214896565958270', '2017-12-10 18:27:55', 'Pep Gurdiola prevails over Jose.M.City open a 11 point lead.', None, None, 'status', None, '2017-12-10 18:27:55'), ('10214781700406703', '2017-11-26 21:53:08', 'I have no comment.....', None, '10214781693166522', 'photo', None, '2017-11-26 21:53:08'), ('10214781192354002', '2017-11-26 20:18:55', 'A legitimate clear goal dissallowed...', None, None, 'status', None, '2017-11-26 20:18:55'), ('10214739964763338', '2017-11-21 16:00:41', 'THE ONLY PRESIDENT I HAVE EVER KNOWN FINALLY GONE.Zmbabwe is free again.', None, None, 'status', None, '2017-11-21 16:00:41'), ('10214739895241600', '2017-11-21 15:49:23', 'Dictactorship finally comes to an end.Mugabe resigns', None, None, 'status', None, '2017-11-21 15:49:55'), ('10214739883601309', '2017-11-21 15:46:36', 'Breaking news.Mugabe has resigned', None, None, 'status', None, '2017-11-21 15:46:36'), ('10214725817929676', '2017-11-19 19:23:02', 'He did not resign..feeling sad', None, None, 'status', None, '2017-11-19 20:27:13'), ('10214713023289818', '2017-11-18 08:34:03', 'It is happening...in my lifetime. A long period of tyranny is coming to an END.', None, '10214713008929459', 'photo', None, '2017-11-18 08:34:03'), ('10214601616104708', '2017-11-04 13:33:04', 'IS THIS THE END OF ED?????????????????', None, None, 'link', None, '2017-11-04 13:33:04'), ('10214600907486993', '2017-11-04 11:57:52', None, None, None, 'status', None, '2017-11-04 11:57:52'), ('10214585091011591', '2017-11-02 10:30:16', None, None, None, 'status', None, '2017-11-02 10:30:16'), ('10214577987794015', '2017-11-01 13:24:13', None, None, None, 'status', None, '2017-11-01 13:24:13'), ('10214568601839372', '2017-10-31 10:22:34', None, None, None, 'status', None, '2017-10-31 10:22:34'), ('10214568600919349', '2017-10-31 10:22:19', None, None, None, 'status', None, '2017-10-31 10:22:19'), ('10214568596519239', '2017-10-31 10:21:10', None, None, None, 'status', None, '2017-10-31 10:21:10'), ('10214555665995984', '2017-10-29 17:08:50', 'Girona 2-Real Madrid 1.The Catalans the victors.', None, None, 'status', None, '2017-10-29 17:08:50'), ('10214546602649406', '2017-10-28 14:12:40', 'SAN MAMES ES EL LLOC. SOM EL BARCA.EL MILLOR CLUB DEL MON. FORCA BARCA....VISCA EL BARCA', None, '10214546571688632', 'photo', None, '2017-10-28 14:12:40'), ('10214395357668376', '2017-10-11 01:38:17', 'ALBICELESTE THROUGH TO RUSSIA 2018. THANKS TO THE LITTLE GENIUS.', None, '10214395335667826', 'photo', None, '2017-10-11 01:38:17'), ('10214395244185539', '2017-10-11 01:19:50', 'G.O.A.T.', None, '10214395240505447', 'photo', None, '2017-10-11 01:19:50'), ('10214395100261941', '2017-10-11 00:52:10', 'Messiiiiiiii...GOAT.', None, None, 'status', None, '2017-10-11 00:52:10'), ('10214394690571699', '2017-10-10 23:51:23', 'Mesiiiiiiii ...scores once again..2-1.', None, None, 'status', None, '2017-10-10 23:51:23'), ('10214348735142842', '2017-10-05 09:41:39', None, None, None, 'status', None, '2017-10-05 09:41:39'), ('10214332347653165', '2017-10-03 05:38:43', None, None, None, 'status', None, '2017-10-03 05:38:43'), ('10214320680201486', '2017-10-01 16:44:08', 'Problems in Catalonia -Yes. Problems in Camp Nou-No. Barca  cruise to a 3-0 win over Las Palmas in a virtually empty stadium. FORCA BARCA-MES UN QUE CLUB.', None, '10214320659600971', 'photo', None, '2017-10-01 16:45:50'), ('10214319416769901', '2017-10-01 14:15:22', 'Barca vs Las Palmas being played behind closed doors due to the referendum in Catalonia.Forca Barca...Visca el Barca.', None, None, 'status', None, '2017-10-01 19:40:40'), ('10214295898221952', '2017-09-28 14:10:44', None, None, None, 'status', None, '2017-09-28 14:10:44'), ('10214279550093259', '2017-09-26 10:58:06', None, None, None, 'status', None, '2017-09-26 10:58:06'), ('10214236501657075', '2017-09-20 21:52:23', 'Betis scores..Ha ha ha', None, None, 'status', None, '2017-09-21 03:55:50'), ('10214089902992200', '2017-09-02 07:07:15', None, None, '10214089902552189', 'photo', None, '2017-09-02 07:07:15'), ('10213595581674476', '2017-07-10 11:40:46', 'Had to endure a nervy period after the fall of the 7th wicket.But the boys held their nerve and saw the game off.Well done Zimbabwe Cricket team.First ODI series win in eight years.', None, None, 'status', None, '2017-07-10 11:41:11'), ('10213586982979514', '2017-07-09 14:56:03', 'There is certainly hope and future in Zim football.Talent Chawapiwa ..what a game he had.', None, None, 'status', None, '2017-07-09 14:56:03'), ('10213586655371324', '2017-07-09 14:16:35', 'As it stands in the battle of Rhodesia.Southern Rhodesia 2 Nothern Rhodesia 1.The rivarly continues.', None, None, 'status', None, '2017-07-09 14:32:54'), ('10213509459081465', '2017-07-02 15:06:40', 'Meanwhile, reports say that there is weeping and sobbing in Mbare.Ha ha ha.Kepe Kepe bhora.', None, None, 'status', None, '2017-07-02 15:06:40'), ('10213509360639004', '2017-07-02 14:56:23', 'Nyika Yese iri kufara.....', None, None, 'status', None, '2017-07-02 14:56:23'), ('10213509321878035', '2017-07-02 14:54:11', 'Yeahhhhhhhh  Kepe Kepe Bhora', None, None, 'status', None, '2017-07-02 14:54:11'), ('10213358357784027', '2017-06-18 18:51:15', 'Chile goal ruled offside.Thanks to VAR.The era of offside goals is coming to an end.But their VAR decisions need to be a little bit quicker.', None, None, 'status', None, '2017-06-18 18:51:15'), ('10213205570044429', '2017-06-03 19:15:37', 'Classical goal from Juventus...1-1.Game on.', None, None, 'status', None, '2017-06-03 19:15:37'), ('10213134213140551', '2017-05-27 13:10:36', 'BANKING,FINANCE AND INSURANCE EXPO.GABORONE 1ST-3RD OF JUNE 2017, GABORONE.', None, '1077039902428767', 'photo', None, '2017-05-27 13:10:36'), ('10212845752809223', '2017-04-26 18:56:13', 'Breaking News:Mascherano scores his first Barcelona goal since joining Barca in 2010.', None, None, 'status', None, '2017-04-26 18:56:13'), ('10212818520368429', '2017-04-23 20:38:27', 'L.Messi wins it for FC Barcelona....Visca el Barca', None, None, 'status', None, '2017-04-23 20:38:27'), ('10212818502407980', '2017-04-23 20:37:04', 'Messsiiiiiiiiiiiiiiiiiiii', None, None, 'status', None, '2017-04-23 20:37:04'), ('10212818497727863', '2017-04-23 20:36:50', 'Mesiiiiiiiiiiiiiiiiiiikiii', None, None, 'status', None, '2017-04-23 20:36:50'), ('10212817968314628', '2017-04-23 19:19:23', 'Goaal..what a goal by the best footballer in the world', None, None, 'status', None, '2017-04-23 20:44:45'), ('10212817939313903', '2017-04-23 19:15:30', 'Another offside goal in 3 days.Just give them La liga', None, None, 'status', None, '2017-04-23 21:33:14'), ('10212352815806106', '2017-03-08 21:50:15', 'Believe believe believe believe ....Barcaaaaaaaaaa', None, None, 'status', None, '2017-03-08 21:50:15'), ('10212352805085838', '2017-03-08 21:49:11', 'I cant hold myself ...My happiest day of my life', None, None, 'status', None, '2017-03-08 21:58:29'), ('10212352783485298', '2017-03-08 21:46:02', 'Barca Barca Barca Batca', None, None, 'status', None, '2017-03-08 21:46:02'), ('10212351416371121', '2017-03-08 18:56:10', 'THEY BELIEVE ..WE BELIEVE.THEY HOPE ..WE HOPE.THEY DREAM..WE DREAM.EVERYONE BEHIND THE TEAM ...FORCA BARCA.', None, '10212351397210642', 'photo', None, '2017-03-08 21:53:47'), ('10212314126918908', '2017-03-04 21:48:15', 'He make me hope-he make me believe. Anything is possible with him on the pitch. PSG here we come.Visca el Barca.', None, '10212314113598575', 'photo', None, '2017-03-05 14:46:16'), ('10212313814111088', '2017-03-04 21:08:44', 'Exhibtion football from FC Barcelona .Messi with another magical goal to make it 5', None, None, 'status', None, '2017-03-04 21:08:44'), ('10212313512623551', '2017-03-04 20:29:50', 'Scintilating football from Barca.My Barca is back at their best...Visca el Barca.', None, None, 'status', None, '2017-03-04 20:29:50'), ('10212313358499698', '2017-03-04 20:12:45', 'What a magical goal by Leo Messi...the best football player ever', None, None, 'status', None, '2017-03-04 20:12:45'), ('10212258726373929', '2017-02-26 17:07:01', 'Barca gets a vital win at the Calderon ...Visca el Barca', None, None, 'status', None, '2017-02-26 17:07:01'), ('10212258668572484', '2017-02-26 16:58:46', 'Mesiiiiiiiiiiiii.....2-1.Hang on guys.Forca Barca.', None, None, 'status', None, '2017-02-26 16:58:46'), ('10212197575485195', '2017-02-19 21:43:48', 'Another uninspiring performance. No motivation...no excitement.This is not the Barca i know. Enrique oooooooooooout.......Ronald Koeman innnnnn', None, None, 'status', None, '2017-02-19 21:43:48'), ('10212072290273143', '2017-02-07 22:05:30', 'Barca negotiates a tough match..through to first final of the season.Visca el Barca.', None, None, 'status', None, '2017-02-07 22:05:30'), ('10212054312943721', '2017-02-05 20:53:36', 'Cameroon ...deserved Champions of Africa.Congratulations.', None, None, 'status', None, '2017-02-05 20:53:36'), ('10212051269627640', '2017-02-05 15:24:36', 'Jesus(not of Nazareth but of Brazil) saves Man City.', None, None, 'status', None, '2017-02-05 15:24:36'), ('10212042032356714', '2017-02-04 15:57:07', 'What a goal by Messi from a tight angle...Genius', None, None, 'status', None, '2017-02-04 15:57:07'), ('10212034913338743', '2017-02-03 20:06:09', 'The legend is back at best club in the world.During your era you produced magic....Today we still witness magic. Once a cule...always a cule.Welcome back Gaucho.Visca el Barca..Mes Que Un Club.', None, '10212034874857781', 'photo', None, '2017-02-03 20:06:09'), ('10212020783105496', '2017-02-02 07:44:36', 'Life is lifeless without friends.Thank you all.Happy #friendsday.', None, '10212020783105496', 'video', None, '2017-02-02 07:44:36'), ('10211980937949392', '2017-01-28 21:47:35', 'Cameroon through to the semi finals after a nail biting penalty shootout', None, None, 'status', None, '2017-01-28 21:47:35'), ('10211838859197512', '2017-01-15 17:54:26', 'Dissapointed with our second half approach.I felt its a game we should have won.All the same we say Go Warriors go.', None, None, 'status', None, '2017-01-15 17:54:26'), ('10211838279903030', '2017-01-15 16:29:32', 'Gooooooooooal 2-1', None, None, 'status', None, '2017-01-15 16:29:32'), ('10211838204181137', '2017-01-15 16:17:23', 'Gooooooooooal.....1-1', None, None, 'status', None, '2017-01-15 16:17:23'), ('10211837990295790', '2017-01-15 15:45:55', 'GO WARRIORS GO', None, '10211837988175737', 'photo', None, '2017-01-15 15:45:55'), ('10211789382960637', '2017-01-11 13:29:06', 'That was the moment I annointed him a GOAT.Can he do it again tonight?Forca Barca...Mes Que Un Club.', None, '10155127136519305', 'video', None, '2017-01-11 13:29:06'), ('10211789354519926', '2017-01-11 13:25:58', None, None, '10155127136519305', 'video', None, '2017-01-11 13:25:58'), ('10211571105783844', '2016-12-18 21:34:49', 'Messi is a GOAT(Greatest of All Time)', None, None, 'status', None, '2016-12-19 04:22:08'), ('10211570805936348', '2016-12-18 21:11:29', 'Magical magical from Messi...Suarez finishes the rebound', None, None, 'status', None, '2016-12-18 21:11:29'), ('10211475953725102', '2016-12-11 04:49:29', '#yearinreview2016.There is no blessing greater than the gift of life.Lord thank you for keeping me alive.', None, '10211475953725102', 'video', None, '2016-12-11 04:49:29'), ('10211378848337528', '2016-12-03 11:56:02', 'It is matches like these when a team needs its fans.And definetely the whole Barca family will be behind its team today.Forca Barca...Mes Que Un Club.', None, '10211378839657311', 'photo', None, '2016-12-03 12:32:45'), ('10211308092608679', '2016-11-26 14:51:33', 'Congratualtions to Caps United.Champions of Zimbabwe.Kepe kepe bhora.', None, None, 'status', None, '2016-11-26 14:51:33'), ('10211301933094695', '2016-11-25 20:56:33', 'A big thank you.', None, None, 'status', None, '2016-11-25 20:56:33'), ('10211301932974692', '2016-11-25 20:56:32', 'A big thank you.', None, '10211301932974692', 'video', None, '2016-11-25 20:56:32'), ('10211253761530436', '2016-11-20 14:35:52', 'Embarassing scenes at Mandava Stadium.I condemn any form of violence in football.', None, None, 'status', None, '2016-11-20 15:54:13'), ('10210974826997247', '2016-10-23 15:01:35', '37 seconds..Chelsea scores', None, None, 'status', None, '2016-10-23 15:01:35'), ('10210932509179328', '2016-10-19 21:07:26', 'We do not just call it football...we call it magic.\\n\\nMAGICAL MESSI DOWNS MAN CITY.', None, '10210932500099101', 'photo', None, '2016-10-19 21:07:26'), ('10210931964285706', '2016-10-19 20:15:09', 'Hat trick for Messi..3-0', None, None, 'status', None, '2016-10-19 20:15:09'), ('10210931903764193', '2016-10-19 20:06:38', 'Mesiiiiii once again', None, None, 'status', None, '2016-10-19 20:06:38'), ('10210931379711092', '2016-10-19 19:05:07', 'Mesiiiiiiiiiiiiiiiii', None, None, 'status', None, '2016-10-19 19:05:07'), ('10210893529524861', '2016-10-16 14:54:09', 'Gooooooal ...What a comeback from Caps Utd', None, None, 'status', None, '2016-10-16 14:54:09'), ('10210624982851362', '2016-09-18 12:56:14', 'Mourinho kikikikikikiki', None, None, 'status', None, '2016-09-18 12:56:14'), ('10210615232527610', '2016-09-17 11:45:12', 'Great teamwork being displayed by MSN', None, None, 'status', None, '2016-09-17 11:45:12'), ('10210351607737155', '2016-08-20 17:33:03', 'Magic...magic ...magic ...magic at the  Camp Nou.', None, None, 'status', None, '2016-08-20 17:33:03'), ('10210349600126966', '2016-08-20 12:42:10', 'FOOTBALL RETURNS ....THE INTRICATE PASSES PASSES, THE DRIBBLING, THE PRESSING, THE FINEST TACKLES ...ALL IN ONE.AT BARCA WE DO NOT ONLY CALL IT FOOTBALL ..WE CALL IT MAGIC.VISCA EL BARCA -THE BEST FOOTBALL CLUB OF THE LAST DECADE.', None, '10210349535765357', 'photo', None, '2016-08-20 12:42:10'), ('10210019010022420', '2016-07-13 17:53:11', 'Pastor Evan Mawarire has been freed.God is with us.', None, None, 'status', None, '2016-07-13 17:53:11'), ('10209993664868807', '2016-07-10 21:35:35', 'From being almost out in the group stage..Portugal wins Euro 2016.Amazing...', None, None, 'status', None, '2016-07-10 21:45:11'), ('10209993651668477', '2016-07-10 21:33:34', 'Congratulations to Portugal.Euro 2016 Champions.', None, None, 'status', None, '2016-07-10 21:33:34'), ('10209964356416114', '2016-07-07 20:35:55', 'Im not an ATM but i like Griezmann..the best striker of Euro 2016.', None, None, 'status', None, '2016-07-07 20:35:55'), ('10209962984021805', '2016-07-07 16:53:02', 'Proud of my fellow countrymen.', None, '10209962979381689', 'photo', None, '2016-07-07 16:53:02'), ('10209926449868474', '2016-07-02 21:49:34', 'Germany wins penalty shootout', None, None, 'status', None, '2016-07-02 21:49:34'), ('10209926435828123', '2016-07-02 21:45:06', 'Penalty shootout drama', None, None, 'status', None, '2016-07-02 21:45:06'), ('10209887098964726', '2016-06-27 20:51:04', 'Iceland shock England ...unbelievable.', None, None, 'status', None, '2016-06-27 20:51:04'), ('10209881321020281', '2016-06-27 02:55:03', 'Argentina fail to win Copa America once again...Losing in penalty shootout', None, None, 'status', None, '2016-06-27 02:55:03'), ('10209881313620096', '2016-06-27 02:53:46', 'Advantage Chile', None, None, 'status', None, '2016-06-27 02:53:46'), ('10209871786581926', '2016-06-25 21:33:25', 'A boring match ends 1-0 in favour of Portugal', None, None, 'status', None, '2016-06-25 21:33:25'), ('10209868829908011', '2016-06-25 15:43:17', 'Shaqiri out of Euros..dissapointed...', None, None, 'status', None, '2016-06-25 15:43:17'), ('10209868384696881', '2016-06-25 14:41:19', 'What a goal from Shaqiri', None, None, 'status', None, '2016-06-25 14:41:19'), ('10209858199362254', '2016-06-24 09:02:41', 'UK DECIDES TO LEAVE EU. DAVID CAMERON RESIGNS , BRITISH POUND DROP TO A 30 YEAR LOW , MARKETS ACROSS THE WORLD TUMBLE AMID THE SHOCKING NEWS.#BREXIT', None, None, 'status', None, '2016-06-24 09:02:41'), ('10209800549121034', '2016-06-17 20:57:50', 'Football made easy by Don Andres Iniesta.When they say football is the most beautiful game..he is one of those  who make it look beautiful.', None, '10209800494879678', 'photo', None, '2016-06-17 20:57:50'), ('10209800143990906', '2016-06-17 20:07:30', 'What a pass from Iniesta...', None, None, 'status', None, '2016-06-17 20:07:30'), ('10209772976191728', '2016-06-14 20:51:47', 'A shock result as Iceland hold Portugal to a 1-1 draw.', None, None, 'status', None, '2016-06-14 20:51:47'), ('10209762407807525', '2016-06-13 14:55:20', 'Espania off the mark....Albeceleste through to the Quarter Finals of Copa America.Its looking good for my teams.', None, None, 'status', None, '2016-06-13 14:55:20'), ('10209712797087288', '2016-06-07 21:01:30', 'BE THE LIGHT OF THE WORLD....I MISS A SHONA MASS-HAD TO LISTEN TO A NUMBER OF SHONA CATHOLIC SONGS  BEFORE I SLEEP .', None, None, 'video', None, '2016-06-07 21:01:30'), ('10209695172246678', '2016-06-05 14:59:36', 'Guinea loses 1-0 to Swaziland, Zim wins 3-0  against Malawi and qualifies for Afcon 2017.Congratulations to the Warriors.', None, None, 'status', None, '2016-06-08 16:03:30'), ('10209695157766316', '2016-06-05 14:56:57', 'JUST IN: ZIM QUALIFIES FOR AFCON 2017.', None, None, 'status', None, '2016-06-05 14:56:57'), ('10209694661473909', '2016-06-05 13:43:41', 'Still 0-0 in Mbabane', None, None, 'status', None, '2016-06-05 13:43:41'), ('10209694654073724', '2016-06-05 13:42:24', 'Khamaaaaa   2-0', None, None, 'status', None, '2016-06-05 13:42:24'), ('10209694510230128', '2016-06-05 13:21:18', 'Musonaaaaaaa 1-0', None, None, 'status', None, '2016-06-05 13:21:18'), ('10209694441988422', '2016-06-05 13:06:10', 'Go Warriors go', None, None, 'status', None, '2016-06-05 13:06:10'), ('10209634563371494', '2016-05-28 21:35:30', 'The most undeserved victory in the history of football', None, None, 'status', None, '2016-05-29 14:54:34'), ('10209634212042711', '2016-05-28 20:27:44', 'Goaaal....Game on', None, None, 'status', None, '2016-05-28 20:27:44'), ('10209589216637854', '2016-05-22 22:20:54', 'Football made easy by Don Andres Iniesta...what a match from him ..', None, None, 'status', None, '2016-05-22 22:20:54'), ('10209589178596903', '2016-05-22 22:13:16', 'Messi is a genius...when you have such a player in your team you know trophies are guaranteed.', None, None, 'status', None, '2016-05-22 22:13:16'), ('10209589136595853', '2016-05-22 22:09:04', '28th Copa Del Rey title for Barca..the best football club of the new millenium', None, None, 'status', None, '2016-05-22 22:09:04'), ('10209589120635454', '2016-05-22 22:06:57', 'Barcaaaa Copa Del Rel winners...Visca el Barca', None, None, 'status', None, '2016-05-22 22:06:57'), ('10209589105475075', '2016-05-22 22:05:12', 'What an intelligent pass from Messi to make it 2-0', None, None, 'status', None, '2016-05-22 22:05:12'), ('10209589100474950', '2016-05-22 22:04:30', 'Neymarrrrrrr 2-0', None, None, 'status', None, '2016-05-22 22:04:30'), ('10209588924230544', '2016-05-22 21:36:33', 'Wat a pass from Messi', None, None, 'status', None, '2016-05-22 21:36:33'), ('10209588922870510', '2016-05-22 21:36:08', 'Albaaaaaaa.....1-0', None, None, 'status', None, '2016-05-22 21:36:08'), ('10209587962206494', '2016-05-22 19:18:03', 'EVERY SEASON WE DREAM OF WINNING ALL TROPHIES INCLUDING THE COPA DEL REY. WE WANT THE DOUBLE -WE BELIEVE IN DREAMS....VISCA EL BARCA', None, '10209587943646030', 'photo', None, '2016-05-22 19:18:03'), ('10209528082669543', '2016-05-14 16:54:07', 'CAMPIONES ...VISCA EL BARCA..MES QUE UN CLUB', None, '10209528079069453', 'photo', None, '2016-05-14 16:54:07'), ('10209528065229107', '2016-05-14 16:49:45', 'Visca el Barcaaaaaaaaaa', None, None, 'status', None, '2016-05-14 16:49:45'), ('10209528060828997', '2016-05-14 16:49:26', 'Breaking News...Barcelona are the Champions of Spain', None, None, 'status', None, '2016-05-14 16:49:26'), ('10209527985547115', '2016-05-14 16:42:13', 'Susrez 3-0 We are the Champions', None, None, 'status', None, '2016-05-14 16:42:13')]\n"
     ]
    }
   ],
   "source": [
    "#Getting the data as a tuple\n",
    "my_tuple = df_to_list_tuple()\n",
    "print(my_tuple)"
   ]
  },
  {
   "cell_type": "code",
   "execution_count": 120,
   "metadata": {},
   "outputs": [],
   "source": [
    "#Importing mysql connector \n",
    "import mysql.connector as mysql\n"
   ]
  },
  {
   "cell_type": "code",
   "execution_count": 121,
   "metadata": {},
   "outputs": [],
   "source": [
    "#Establishing a connection  \n",
    "try:\n",
    "    conn = mysql.connect(user = 'root',\n",
    "                         password = 'jayden@2022',\n",
    "                         host = '127.0.0.1',\n",
    "                         database = 'facebook')\n",
    "\n",
    "except mysql.Error as err:\n",
    "    if err.errno == errorcode.ER_ACCESS_DENIED_ERROR:\n",
    "        print('You user name or password is incorrect')\n",
    "    elif err.errno == errorcode.ER_BAD_DB_ERROR:\n",
    "        print('Database does not exist')\n",
    "    else :\n",
    "        print(err)\n",
    "\n",
    "#Creating a cursor object\n",
    "cursor = conn.cursor()\n",
    "\n",
    "#Preparing queryto insert data into SQL\n",
    "sql = \"\"\"INSERT INTO facebook_posts (post_id, post_datetime, post_message, post_shares, post_object_id, post_object_type, post_time_visibility, last_updated_time)\n",
    "VALUES (%s, %s, %s,%s ,%s , %s,%s, %s)\"\"\"\n",
    "\n",
    "records = my_tuple[0:5]\n",
    "try:\n",
    "    #Excuting the sql statement\n",
    "    cursor.executemany(sql, records)\n",
    "    \n",
    "    #Commit changes to the database\n",
    "    conn.commit()\n",
    "except  mysql.Error as err:\n",
    "    print(err)\n",
    "    print(\"Error code:\", err.errno)\n",
    "    print(\"SQL State:\", err.sqlstate)\n",
    "    print(\"Message:\", err.msg)\n",
    "\n",
    "#close the connection \n",
    "conn.close()\n",
    "\n"
   ]
  },
  {
   "cell_type": "code",
   "execution_count": 88,
   "metadata": {},
   "outputs": [
    {
     "data": {
      "text/plain": [
       "('10223267912276696',\n",
       " '2020-09-13 19:00:28',\n",
       " None,\n",
       " {'count': 1},\n",
       " '1978287302469756',\n",
       " 'photo',\n",
       " None,\n",
       " '2020-09-13 19:00:28')"
      ]
     },
     "execution_count": 88,
     "metadata": {},
     "output_type": "execute_result"
    }
   ],
   "source": [
    "my_tuple_y[30]"
   ]
  },
  {
   "cell_type": "code",
   "execution_count": null,
   "metadata": {},
   "outputs": [],
   "source": [
    "#records = [('10212845752809228', '2016-07-02 21:45:06', 'Penalty shootout drama', None, None , 'status', None, '2016-07-02 21:45:06'),\n",
    "('10212845752809229', '2016-07-02 21:45:06', 'Penalty shootout drama', None, None , 'status', None, '2016-07-02 21:45:06')]\n",
    "'The Yellow we love💛💛💛💛🤗🤗'"
   ]
  }
 ],
 "metadata": {
  "interpreter": {
   "hash": "a297a2b994ae0802deeed98fd952081b69dcadf1219eb73ad23176f394cf2644"
  },
  "kernelspec": {
   "display_name": "Python 3.8.5 64-bit ('base': conda)",
   "name": "python3"
  },
  "language_info": {
   "codemirror_mode": {
    "name": "ipython",
    "version": 3
   },
   "file_extension": ".py",
   "mimetype": "text/x-python",
   "name": "python",
   "nbconvert_exporter": "python",
   "pygments_lexer": "ipython3",
   "version": "3.8.5"
  },
  "orig_nbformat": 4
 },
 "nbformat": 4,
 "nbformat_minor": 2
}
